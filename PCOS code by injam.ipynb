{
  "nbformat": 4,
  "nbformat_minor": 0,
  "metadata": {
    "colab": {
      "provenance": [],
      "collapsed_sections": []
    },
    "kernelspec": {
      "name": "python3",
      "display_name": "Python 3"
    },
    "language_info": {
      "name": "python"
    }
  },
  "cells": [
    {
      "cell_type": "code",
      "execution_count": 2,
      "metadata": {
        "id": "VOuOeWNPEKl9"
      },
      "outputs": [],
      "source": [
        "import pandas as pd\n",
        "import numpy as np\n",
        "import matplotlib.pyplot as plt\n",
        "import seaborn as sns"
      ]
    },
    {
      "cell_type": "code",
      "source": [
        "from google.colab import drive\n",
        "drive.mount('/content/drive')"
      ],
      "metadata": {
        "colab": {
          "base_uri": "https://localhost:8080/"
        },
        "id": "DNUkyaTxCFk_",
        "outputId": "6c5faf7a-b34f-4f19-f5b2-1d58c08e65c3"
      },
      "execution_count": 3,
      "outputs": [
        {
          "output_type": "stream",
          "name": "stdout",
          "text": [
            "Drive already mounted at /content/drive; to attempt to forcibly remount, call drive.mount(\"/content/drive\", force_remount=True).\n"
          ]
        }
      ]
    },
    {
      "cell_type": "code",
      "source": [
        "df = pd.read_excel("Dataset with disease data.xlsx")
      ],
      "metadata": {
        "id": "EzvcFPrEEUiN"
      },
      "execution_count": 4,
      "outputs": []
    },
    {
      "cell_type": "code",
      "source": [
        "df.head()"
      ],
      "metadata": {
        "colab": {
          "base_uri": "https://localhost:8080/",
          "height": 369
        },
        "id": "FyDMbBD9EXFk",
        "outputId": "3c48b855-b290-4060-ddc4-9244e2c45d53"
      },
      "execution_count": 5,
      "outputs": [
        {
          "output_type": "execute_result",
          "data": {
            "text/plain": [
              "   Sl. No  Patient File No.  PCOS (Y/N)   Age (yrs)  Weight (Kg)  Height(Cm)   \\\n",
              "0       1                 1           0          28         44.6        152.0   \n",
              "1       2                 2           0          36         65.0        161.5   \n",
              "2       3                 3           1          33         68.8        165.0   \n",
              "3       4                 4           0          37         65.0        148.0   \n",
              "4       5                 5           0          25         52.0        161.0   \n",
              "\n",
              "    BMI  Blood Group  Pulse rate(bpm)   RR (breaths/min)  ...  \\\n",
              "0  19.3           15                78                22  ...   \n",
              "1   NaN           15                74                20  ...   \n",
              "2   NaN           11                72                18  ...   \n",
              "3   NaN           13                72                20  ...   \n",
              "4   NaN           11                72                18  ...   \n",
              "\n",
              "   Fast food (Y/N)  Reg.Exercise(Y/N)  BP _Systolic (mmHg)  \\\n",
              "0              1.0                  0                  110   \n",
              "1              0.0                  0                  120   \n",
              "2              1.0                  0                  120   \n",
              "3              0.0                  0                  120   \n",
              "4              0.0                  0                  120   \n",
              "\n",
              "   BP _Diastolic (mmHg)  Follicle No. (L)  Follicle No. (R)  \\\n",
              "0                    80                 3                 3   \n",
              "1                    70                 3                 5   \n",
              "2                    80                13                15   \n",
              "3                    70                 2                 2   \n",
              "4                    80                 3                 4   \n",
              "\n",
              "   Avg. F size (L) (mm) Avg. F size (R) (mm)  Endometrium (mm)  Unnamed: 44  \n",
              "0                  18.0                 18.0               8.5          NaN  \n",
              "1                  15.0                 14.0               3.7          NaN  \n",
              "2                  18.0                 20.0              10.0          NaN  \n",
              "3                  15.0                 14.0               7.5          NaN  \n",
              "4                  16.0                 14.0               7.0          NaN  \n",
              "\n",
              "[5 rows x 45 columns]"
            ],
            "text/html": [
              "\n",
              "  <div id=\"df-fe874c37-dc4f-4bd0-8afe-663eb70b37cf\">\n",
              "    <div class=\"colab-df-container\">\n",
              "      <div>\n",
              "<style scoped>\n",
              "    .dataframe tbody tr th:only-of-type {\n",
              "        vertical-align: middle;\n",
              "    }\n",
              "\n",
              "    .dataframe tbody tr th {\n",
              "        vertical-align: top;\n",
              "    }\n",
              "\n",
              "    .dataframe thead th {\n",
              "        text-align: right;\n",
              "    }\n",
              "</style>\n",
              "<table border=\"1\" class=\"dataframe\">\n",
              "  <thead>\n",
              "    <tr style=\"text-align: right;\">\n",
              "      <th></th>\n",
              "      <th>Sl. No</th>\n",
              "      <th>Patient File No.</th>\n",
              "      <th>PCOS (Y/N)</th>\n",
              "      <th>Age (yrs)</th>\n",
              "      <th>Weight (Kg)</th>\n",
              "      <th>Height(Cm)</th>\n",
              "      <th>BMI</th>\n",
              "      <th>Blood Group</th>\n",
              "      <th>Pulse rate(bpm)</th>\n",
              "      <th>RR (breaths/min)</th>\n",
              "      <th>...</th>\n",
              "      <th>Fast food (Y/N)</th>\n",
              "      <th>Reg.Exercise(Y/N)</th>\n",
              "      <th>BP _Systolic (mmHg)</th>\n",
              "      <th>BP _Diastolic (mmHg)</th>\n",
              "      <th>Follicle No. (L)</th>\n",
              "      <th>Follicle No. (R)</th>\n",
              "      <th>Avg. F size (L) (mm)</th>\n",
              "      <th>Avg. F size (R) (mm)</th>\n",
              "      <th>Endometrium (mm)</th>\n",
              "      <th>Unnamed: 44</th>\n",
              "    </tr>\n",
              "  </thead>\n",
              "  <tbody>\n",
              "    <tr>\n",
              "      <th>0</th>\n",
              "      <td>1</td>\n",
              "      <td>1</td>\n",
              "      <td>0</td>\n",
              "      <td>28</td>\n",
              "      <td>44.6</td>\n",
              "      <td>152.0</td>\n",
              "      <td>19.3</td>\n",
              "      <td>15</td>\n",
              "      <td>78</td>\n",
              "      <td>22</td>\n",
              "      <td>...</td>\n",
              "      <td>1.0</td>\n",
              "      <td>0</td>\n",
              "      <td>110</td>\n",
              "      <td>80</td>\n",
              "      <td>3</td>\n",
              "      <td>3</td>\n",
              "      <td>18.0</td>\n",
              "      <td>18.0</td>\n",
              "      <td>8.5</td>\n",
              "      <td>NaN</td>\n",
              "    </tr>\n",
              "    <tr>\n",
              "      <th>1</th>\n",
              "      <td>2</td>\n",
              "      <td>2</td>\n",
              "      <td>0</td>\n",
              "      <td>36</td>\n",
              "      <td>65.0</td>\n",
              "      <td>161.5</td>\n",
              "      <td>NaN</td>\n",
              "      <td>15</td>\n",
              "      <td>74</td>\n",
              "      <td>20</td>\n",
              "      <td>...</td>\n",
              "      <td>0.0</td>\n",
              "      <td>0</td>\n",
              "      <td>120</td>\n",
              "      <td>70</td>\n",
              "      <td>3</td>\n",
              "      <td>5</td>\n",
              "      <td>15.0</td>\n",
              "      <td>14.0</td>\n",
              "      <td>3.7</td>\n",
              "      <td>NaN</td>\n",
              "    </tr>\n",
              "    <tr>\n",
              "      <th>2</th>\n",
              "      <td>3</td>\n",
              "      <td>3</td>\n",
              "      <td>1</td>\n",
              "      <td>33</td>\n",
              "      <td>68.8</td>\n",
              "      <td>165.0</td>\n",
              "      <td>NaN</td>\n",
              "      <td>11</td>\n",
              "      <td>72</td>\n",
              "      <td>18</td>\n",
              "      <td>...</td>\n",
              "      <td>1.0</td>\n",
              "      <td>0</td>\n",
              "      <td>120</td>\n",
              "      <td>80</td>\n",
              "      <td>13</td>\n",
              "      <td>15</td>\n",
              "      <td>18.0</td>\n",
              "      <td>20.0</td>\n",
              "      <td>10.0</td>\n",
              "      <td>NaN</td>\n",
              "    </tr>\n",
              "    <tr>\n",
              "      <th>3</th>\n",
              "      <td>4</td>\n",
              "      <td>4</td>\n",
              "      <td>0</td>\n",
              "      <td>37</td>\n",
              "      <td>65.0</td>\n",
              "      <td>148.0</td>\n",
              "      <td>NaN</td>\n",
              "      <td>13</td>\n",
              "      <td>72</td>\n",
              "      <td>20</td>\n",
              "      <td>...</td>\n",
              "      <td>0.0</td>\n",
              "      <td>0</td>\n",
              "      <td>120</td>\n",
              "      <td>70</td>\n",
              "      <td>2</td>\n",
              "      <td>2</td>\n",
              "      <td>15.0</td>\n",
              "      <td>14.0</td>\n",
              "      <td>7.5</td>\n",
              "      <td>NaN</td>\n",
              "    </tr>\n",
              "    <tr>\n",
              "      <th>4</th>\n",
              "      <td>5</td>\n",
              "      <td>5</td>\n",
              "      <td>0</td>\n",
              "      <td>25</td>\n",
              "      <td>52.0</td>\n",
              "      <td>161.0</td>\n",
              "      <td>NaN</td>\n",
              "      <td>11</td>\n",
              "      <td>72</td>\n",
              "      <td>18</td>\n",
              "      <td>...</td>\n",
              "      <td>0.0</td>\n",
              "      <td>0</td>\n",
              "      <td>120</td>\n",
              "      <td>80</td>\n",
              "      <td>3</td>\n",
              "      <td>4</td>\n",
              "      <td>16.0</td>\n",
              "      <td>14.0</td>\n",
              "      <td>7.0</td>\n",
              "      <td>NaN</td>\n",
              "    </tr>\n",
              "  </tbody>\n",
              "</table>\n",
              "<p>5 rows × 45 columns</p>\n",
              "</div>\n",
              "      <button class=\"colab-df-convert\" onclick=\"convertToInteractive('df-fe874c37-dc4f-4bd0-8afe-663eb70b37cf')\"\n",
              "              title=\"Convert this dataframe to an interactive table.\"\n",
              "              style=\"display:none;\">\n",
              "        \n",
              "  <svg xmlns=\"http://www.w3.org/2000/svg\" height=\"24px\"viewBox=\"0 0 24 24\"\n",
              "       width=\"24px\">\n",
              "    <path d=\"M0 0h24v24H0V0z\" fill=\"none\"/>\n",
              "    <path d=\"M18.56 5.44l.94 2.06.94-2.06 2.06-.94-2.06-.94-.94-2.06-.94 2.06-2.06.94zm-11 1L8.5 8.5l.94-2.06 2.06-.94-2.06-.94L8.5 2.5l-.94 2.06-2.06.94zm10 10l.94 2.06.94-2.06 2.06-.94-2.06-.94-.94-2.06-.94 2.06-2.06.94z\"/><path d=\"M17.41 7.96l-1.37-1.37c-.4-.4-.92-.59-1.43-.59-.52 0-1.04.2-1.43.59L10.3 9.45l-7.72 7.72c-.78.78-.78 2.05 0 2.83L4 21.41c.39.39.9.59 1.41.59.51 0 1.02-.2 1.41-.59l7.78-7.78 2.81-2.81c.8-.78.8-2.07 0-2.86zM5.41 20L4 18.59l7.72-7.72 1.47 1.35L5.41 20z\"/>\n",
              "  </svg>\n",
              "      </button>\n",
              "      \n",
              "  <style>\n",
              "    .colab-df-container {\n",
              "      display:flex;\n",
              "      flex-wrap:wrap;\n",
              "      gap: 12px;\n",
              "    }\n",
              "\n",
              "    .colab-df-convert {\n",
              "      background-color: #E8F0FE;\n",
              "      border: none;\n",
              "      border-radius: 50%;\n",
              "      cursor: pointer;\n",
              "      display: none;\n",
              "      fill: #1967D2;\n",
              "      height: 32px;\n",
              "      padding: 0 0 0 0;\n",
              "      width: 32px;\n",
              "    }\n",
              "\n",
              "    .colab-df-convert:hover {\n",
              "      background-color: #E2EBFA;\n",
              "      box-shadow: 0px 1px 2px rgba(60, 64, 67, 0.3), 0px 1px 3px 1px rgba(60, 64, 67, 0.15);\n",
              "      fill: #174EA6;\n",
              "    }\n",
              "\n",
              "    [theme=dark] .colab-df-convert {\n",
              "      background-color: #3B4455;\n",
              "      fill: #D2E3FC;\n",
              "    }\n",
              "\n",
              "    [theme=dark] .colab-df-convert:hover {\n",
              "      background-color: #434B5C;\n",
              "      box-shadow: 0px 1px 3px 1px rgba(0, 0, 0, 0.15);\n",
              "      filter: drop-shadow(0px 1px 2px rgba(0, 0, 0, 0.3));\n",
              "      fill: #FFFFFF;\n",
              "    }\n",
              "  </style>\n",
              "\n",
              "      <script>\n",
              "        const buttonEl =\n",
              "          document.querySelector('#df-fe874c37-dc4f-4bd0-8afe-663eb70b37cf button.colab-df-convert');\n",
              "        buttonEl.style.display =\n",
              "          google.colab.kernel.accessAllowed ? 'block' : 'none';\n",
              "\n",
              "        async function convertToInteractive(key) {\n",
              "          const element = document.querySelector('#df-fe874c37-dc4f-4bd0-8afe-663eb70b37cf');\n",
              "          const dataTable =\n",
              "            await google.colab.kernel.invokeFunction('convertToInteractive',\n",
              "                                                     [key], {});\n",
              "          if (!dataTable) return;\n",
              "\n",
              "          const docLinkHtml = 'Like what you see? Visit the ' +\n",
              "            '<a target=\"_blank\" href=https://colab.research.google.com/notebooks/data_table.ipynb>data table notebook</a>'\n",
              "            + ' to learn more about interactive tables.';\n",
              "          element.innerHTML = '';\n",
              "          dataTable['output_type'] = 'display_data';\n",
              "          await google.colab.output.renderOutput(dataTable, element);\n",
              "          const docLink = document.createElement('div');\n",
              "          docLink.innerHTML = docLinkHtml;\n",
              "          element.appendChild(docLink);\n",
              "        }\n",
              "      </script>\n",
              "    </div>\n",
              "  </div>\n",
              "  "
            ]
          },
          "metadata": {},
          "execution_count": 5
        }
      ]
    },
    {
      "cell_type": "code",
      "source": [
        "df.describe()"
      ],
      "metadata": {
        "colab": {
          "base_uri": "https://localhost:8080/",
          "height": 428
        },
        "id": "WTci7LPiEdhj",
        "outputId": "dc0b9954-ee0b-43e3-d3bb-f07e6ca282ce"
      },
      "execution_count": 6,
      "outputs": [
        {
          "output_type": "execute_result",
          "data": {
            "text/plain": [
              "           Sl. No  Patient File No.  PCOS (Y/N)   Age (yrs)  Weight (Kg)  \\\n",
              "count  541.000000        541.000000  541.000000  541.000000   541.000000   \n",
              "mean   271.000000        271.000000    0.327172   31.430684    59.637153   \n",
              "std    156.317519        156.317519    0.469615    5.411006    11.028287   \n",
              "min      1.000000          1.000000    0.000000   20.000000    31.000000   \n",
              "25%    136.000000        136.000000    0.000000   28.000000    52.000000   \n",
              "50%    271.000000        271.000000    0.000000   31.000000    59.000000   \n",
              "75%    406.000000        406.000000    1.000000   35.000000    65.000000   \n",
              "max    541.000000        541.000000    1.000000   48.000000   108.000000   \n",
              "\n",
              "       Height(Cm)          BMI  Blood Group  Pulse rate(bpm)   \\\n",
              "count   541.000000  242.000000   541.000000        541.000000   \n",
              "mean    156.484835   23.929752    13.802218         73.247689   \n",
              "std       6.033545    3.663177     1.840812          4.430285   \n",
              "min     137.000000   15.100000    11.000000         13.000000   \n",
              "25%     152.000000   21.900000    13.000000         72.000000   \n",
              "50%     156.000000   24.000000    14.000000         72.000000   \n",
              "75%     160.000000   25.975000    15.000000         74.000000   \n",
              "max     180.000000   38.900000    18.000000         82.000000   \n",
              "\n",
              "       RR (breaths/min)  ...  Pimples(Y/N)  Fast food (Y/N)  \\\n",
              "count        541.000000  ...    541.000000       540.000000   \n",
              "mean          19.243993  ...      0.489834         0.514815   \n",
              "std            1.688629  ...      0.500359         0.500244   \n",
              "min           16.000000  ...      0.000000         0.000000   \n",
              "25%           18.000000  ...      0.000000         0.000000   \n",
              "50%           18.000000  ...      0.000000         1.000000   \n",
              "75%           20.000000  ...      1.000000         1.000000   \n",
              "max           28.000000  ...      1.000000         1.000000   \n",
              "\n",
              "       Reg.Exercise(Y/N)  BP _Systolic (mmHg)  BP _Diastolic (mmHg)  \\\n",
              "count         541.000000           541.000000            541.000000   \n",
              "mean            0.247689           114.661738             76.927911   \n",
              "std             0.432070             7.384556              5.574112   \n",
              "min             0.000000            12.000000              8.000000   \n",
              "25%             0.000000           110.000000             70.000000   \n",
              "50%             0.000000           110.000000             80.000000   \n",
              "75%             0.000000           120.000000             80.000000   \n",
              "max             1.000000           140.000000            100.000000   \n",
              "\n",
              "       Follicle No. (L)  Follicle No. (R)  Avg. F size (L) (mm)  \\\n",
              "count        541.000000        541.000000            541.000000   \n",
              "mean           6.129390          6.641405             15.018115   \n",
              "std            4.229294          4.436889              3.566839   \n",
              "min            0.000000          0.000000              0.000000   \n",
              "25%            3.000000          3.000000             13.000000   \n",
              "50%            5.000000          6.000000             15.000000   \n",
              "75%            9.000000         10.000000             18.000000   \n",
              "max           22.000000         20.000000             24.000000   \n",
              "\n",
              "       Avg. F size (R) (mm)  Endometrium (mm)  \n",
              "count            541.000000        541.000000  \n",
              "mean              15.451701          8.475915  \n",
              "std                3.318848          2.165381  \n",
              "min                0.000000          0.000000  \n",
              "25%               13.000000          7.000000  \n",
              "50%               16.000000          8.500000  \n",
              "75%               18.000000          9.800000  \n",
              "max               24.000000         18.000000  \n",
              "\n",
              "[8 rows x 42 columns]"
            ],
            "text/html": [
              "\n",
              "  <div id=\"df-cf9e3326-a448-4e84-a2f5-b2c5318d4016\">\n",
              "    <div class=\"colab-df-container\">\n",
              "      <div>\n",
              "<style scoped>\n",
              "    .dataframe tbody tr th:only-of-type {\n",
              "        vertical-align: middle;\n",
              "    }\n",
              "\n",
              "    .dataframe tbody tr th {\n",
              "        vertical-align: top;\n",
              "    }\n",
              "\n",
              "    .dataframe thead th {\n",
              "        text-align: right;\n",
              "    }\n",
              "</style>\n",
              "<table border=\"1\" class=\"dataframe\">\n",
              "  <thead>\n",
              "    <tr style=\"text-align: right;\">\n",
              "      <th></th>\n",
              "      <th>Sl. No</th>\n",
              "      <th>Patient File No.</th>\n",
              "      <th>PCOS (Y/N)</th>\n",
              "      <th>Age (yrs)</th>\n",
              "      <th>Weight (Kg)</th>\n",
              "      <th>Height(Cm)</th>\n",
              "      <th>BMI</th>\n",
              "      <th>Blood Group</th>\n",
              "      <th>Pulse rate(bpm)</th>\n",
              "      <th>RR (breaths/min)</th>\n",
              "      <th>...</th>\n",
              "      <th>Pimples(Y/N)</th>\n",
              "      <th>Fast food (Y/N)</th>\n",
              "      <th>Reg.Exercise(Y/N)</th>\n",
              "      <th>BP _Systolic (mmHg)</th>\n",
              "      <th>BP _Diastolic (mmHg)</th>\n",
              "      <th>Follicle No. (L)</th>\n",
              "      <th>Follicle No. (R)</th>\n",
              "      <th>Avg. F size (L) (mm)</th>\n",
              "      <th>Avg. F size (R) (mm)</th>\n",
              "      <th>Endometrium (mm)</th>\n",
              "    </tr>\n",
              "  </thead>\n",
              "  <tbody>\n",
              "    <tr>\n",
              "      <th>count</th>\n",
              "      <td>541.000000</td>\n",
              "      <td>541.000000</td>\n",
              "      <td>541.000000</td>\n",
              "      <td>541.000000</td>\n",
              "      <td>541.000000</td>\n",
              "      <td>541.000000</td>\n",
              "      <td>242.000000</td>\n",
              "      <td>541.000000</td>\n",
              "      <td>541.000000</td>\n",
              "      <td>541.000000</td>\n",
              "      <td>...</td>\n",
              "      <td>541.000000</td>\n",
              "      <td>540.000000</td>\n",
              "      <td>541.000000</td>\n",
              "      <td>541.000000</td>\n",
              "      <td>541.000000</td>\n",
              "      <td>541.000000</td>\n",
              "      <td>541.000000</td>\n",
              "      <td>541.000000</td>\n",
              "      <td>541.000000</td>\n",
              "      <td>541.000000</td>\n",
              "    </tr>\n",
              "    <tr>\n",
              "      <th>mean</th>\n",
              "      <td>271.000000</td>\n",
              "      <td>271.000000</td>\n",
              "      <td>0.327172</td>\n",
              "      <td>31.430684</td>\n",
              "      <td>59.637153</td>\n",
              "      <td>156.484835</td>\n",
              "      <td>23.929752</td>\n",
              "      <td>13.802218</td>\n",
              "      <td>73.247689</td>\n",
              "      <td>19.243993</td>\n",
              "      <td>...</td>\n",
              "      <td>0.489834</td>\n",
              "      <td>0.514815</td>\n",
              "      <td>0.247689</td>\n",
              "      <td>114.661738</td>\n",
              "      <td>76.927911</td>\n",
              "      <td>6.129390</td>\n",
              "      <td>6.641405</td>\n",
              "      <td>15.018115</td>\n",
              "      <td>15.451701</td>\n",
              "      <td>8.475915</td>\n",
              "    </tr>\n",
              "    <tr>\n",
              "      <th>std</th>\n",
              "      <td>156.317519</td>\n",
              "      <td>156.317519</td>\n",
              "      <td>0.469615</td>\n",
              "      <td>5.411006</td>\n",
              "      <td>11.028287</td>\n",
              "      <td>6.033545</td>\n",
              "      <td>3.663177</td>\n",
              "      <td>1.840812</td>\n",
              "      <td>4.430285</td>\n",
              "      <td>1.688629</td>\n",
              "      <td>...</td>\n",
              "      <td>0.500359</td>\n",
              "      <td>0.500244</td>\n",
              "      <td>0.432070</td>\n",
              "      <td>7.384556</td>\n",
              "      <td>5.574112</td>\n",
              "      <td>4.229294</td>\n",
              "      <td>4.436889</td>\n",
              "      <td>3.566839</td>\n",
              "      <td>3.318848</td>\n",
              "      <td>2.165381</td>\n",
              "    </tr>\n",
              "    <tr>\n",
              "      <th>min</th>\n",
              "      <td>1.000000</td>\n",
              "      <td>1.000000</td>\n",
              "      <td>0.000000</td>\n",
              "      <td>20.000000</td>\n",
              "      <td>31.000000</td>\n",
              "      <td>137.000000</td>\n",
              "      <td>15.100000</td>\n",
              "      <td>11.000000</td>\n",
              "      <td>13.000000</td>\n",
              "      <td>16.000000</td>\n",
              "      <td>...</td>\n",
              "      <td>0.000000</td>\n",
              "      <td>0.000000</td>\n",
              "      <td>0.000000</td>\n",
              "      <td>12.000000</td>\n",
              "      <td>8.000000</td>\n",
              "      <td>0.000000</td>\n",
              "      <td>0.000000</td>\n",
              "      <td>0.000000</td>\n",
              "      <td>0.000000</td>\n",
              "      <td>0.000000</td>\n",
              "    </tr>\n",
              "    <tr>\n",
              "      <th>25%</th>\n",
              "      <td>136.000000</td>\n",
              "      <td>136.000000</td>\n",
              "      <td>0.000000</td>\n",
              "      <td>28.000000</td>\n",
              "      <td>52.000000</td>\n",
              "      <td>152.000000</td>\n",
              "      <td>21.900000</td>\n",
              "      <td>13.000000</td>\n",
              "      <td>72.000000</td>\n",
              "      <td>18.000000</td>\n",
              "      <td>...</td>\n",
              "      <td>0.000000</td>\n",
              "      <td>0.000000</td>\n",
              "      <td>0.000000</td>\n",
              "      <td>110.000000</td>\n",
              "      <td>70.000000</td>\n",
              "      <td>3.000000</td>\n",
              "      <td>3.000000</td>\n",
              "      <td>13.000000</td>\n",
              "      <td>13.000000</td>\n",
              "      <td>7.000000</td>\n",
              "    </tr>\n",
              "    <tr>\n",
              "      <th>50%</th>\n",
              "      <td>271.000000</td>\n",
              "      <td>271.000000</td>\n",
              "      <td>0.000000</td>\n",
              "      <td>31.000000</td>\n",
              "      <td>59.000000</td>\n",
              "      <td>156.000000</td>\n",
              "      <td>24.000000</td>\n",
              "      <td>14.000000</td>\n",
              "      <td>72.000000</td>\n",
              "      <td>18.000000</td>\n",
              "      <td>...</td>\n",
              "      <td>0.000000</td>\n",
              "      <td>1.000000</td>\n",
              "      <td>0.000000</td>\n",
              "      <td>110.000000</td>\n",
              "      <td>80.000000</td>\n",
              "      <td>5.000000</td>\n",
              "      <td>6.000000</td>\n",
              "      <td>15.000000</td>\n",
              "      <td>16.000000</td>\n",
              "      <td>8.500000</td>\n",
              "    </tr>\n",
              "    <tr>\n",
              "      <th>75%</th>\n",
              "      <td>406.000000</td>\n",
              "      <td>406.000000</td>\n",
              "      <td>1.000000</td>\n",
              "      <td>35.000000</td>\n",
              "      <td>65.000000</td>\n",
              "      <td>160.000000</td>\n",
              "      <td>25.975000</td>\n",
              "      <td>15.000000</td>\n",
              "      <td>74.000000</td>\n",
              "      <td>20.000000</td>\n",
              "      <td>...</td>\n",
              "      <td>1.000000</td>\n",
              "      <td>1.000000</td>\n",
              "      <td>0.000000</td>\n",
              "      <td>120.000000</td>\n",
              "      <td>80.000000</td>\n",
              "      <td>9.000000</td>\n",
              "      <td>10.000000</td>\n",
              "      <td>18.000000</td>\n",
              "      <td>18.000000</td>\n",
              "      <td>9.800000</td>\n",
              "    </tr>\n",
              "    <tr>\n",
              "      <th>max</th>\n",
              "      <td>541.000000</td>\n",
              "      <td>541.000000</td>\n",
              "      <td>1.000000</td>\n",
              "      <td>48.000000</td>\n",
              "      <td>108.000000</td>\n",
              "      <td>180.000000</td>\n",
              "      <td>38.900000</td>\n",
              "      <td>18.000000</td>\n",
              "      <td>82.000000</td>\n",
              "      <td>28.000000</td>\n",
              "      <td>...</td>\n",
              "      <td>1.000000</td>\n",
              "      <td>1.000000</td>\n",
              "      <td>1.000000</td>\n",
              "      <td>140.000000</td>\n",
              "      <td>100.000000</td>\n",
              "      <td>22.000000</td>\n",
              "      <td>20.000000</td>\n",
              "      <td>24.000000</td>\n",
              "      <td>24.000000</td>\n",
              "      <td>18.000000</td>\n",
              "    </tr>\n",
              "  </tbody>\n",
              "</table>\n",
              "<p>8 rows × 42 columns</p>\n",
              "</div>\n",
              "      <button class=\"colab-df-convert\" onclick=\"convertToInteractive('df-cf9e3326-a448-4e84-a2f5-b2c5318d4016')\"\n",
              "              title=\"Convert this dataframe to an interactive table.\"\n",
              "              style=\"display:none;\">\n",
              "        \n",
              "  <svg xmlns=\"http://www.w3.org/2000/svg\" height=\"24px\"viewBox=\"0 0 24 24\"\n",
              "       width=\"24px\">\n",
              "    <path d=\"M0 0h24v24H0V0z\" fill=\"none\"/>\n",
              "    <path d=\"M18.56 5.44l.94 2.06.94-2.06 2.06-.94-2.06-.94-.94-2.06-.94 2.06-2.06.94zm-11 1L8.5 8.5l.94-2.06 2.06-.94-2.06-.94L8.5 2.5l-.94 2.06-2.06.94zm10 10l.94 2.06.94-2.06 2.06-.94-2.06-.94-.94-2.06-.94 2.06-2.06.94z\"/><path d=\"M17.41 7.96l-1.37-1.37c-.4-.4-.92-.59-1.43-.59-.52 0-1.04.2-1.43.59L10.3 9.45l-7.72 7.72c-.78.78-.78 2.05 0 2.83L4 21.41c.39.39.9.59 1.41.59.51 0 1.02-.2 1.41-.59l7.78-7.78 2.81-2.81c.8-.78.8-2.07 0-2.86zM5.41 20L4 18.59l7.72-7.72 1.47 1.35L5.41 20z\"/>\n",
              "  </svg>\n",
              "      </button>\n",
              "      \n",
              "  <style>\n",
              "    .colab-df-container {\n",
              "      display:flex;\n",
              "      flex-wrap:wrap;\n",
              "      gap: 12px;\n",
              "    }\n",
              "\n",
              "    .colab-df-convert {\n",
              "      background-color: #E8F0FE;\n",
              "      border: none;\n",
              "      border-radius: 50%;\n",
              "      cursor: pointer;\n",
              "      display: none;\n",
              "      fill: #1967D2;\n",
              "      height: 32px;\n",
              "      padding: 0 0 0 0;\n",
              "      width: 32px;\n",
              "    }\n",
              "\n",
              "    .colab-df-convert:hover {\n",
              "      background-color: #E2EBFA;\n",
              "      box-shadow: 0px 1px 2px rgba(60, 64, 67, 0.3), 0px 1px 3px 1px rgba(60, 64, 67, 0.15);\n",
              "      fill: #174EA6;\n",
              "    }\n",
              "\n",
              "    [theme=dark] .colab-df-convert {\n",
              "      background-color: #3B4455;\n",
              "      fill: #D2E3FC;\n",
              "    }\n",
              "\n",
              "    [theme=dark] .colab-df-convert:hover {\n",
              "      background-color: #434B5C;\n",
              "      box-shadow: 0px 1px 3px 1px rgba(0, 0, 0, 0.15);\n",
              "      filter: drop-shadow(0px 1px 2px rgba(0, 0, 0, 0.3));\n",
              "      fill: #FFFFFF;\n",
              "    }\n",
              "  </style>\n",
              "\n",
              "      <script>\n",
              "        const buttonEl =\n",
              "          document.querySelector('#df-cf9e3326-a448-4e84-a2f5-b2c5318d4016 button.colab-df-convert');\n",
              "        buttonEl.style.display =\n",
              "          google.colab.kernel.accessAllowed ? 'block' : 'none';\n",
              "\n",
              "        async function convertToInteractive(key) {\n",
              "          const element = document.querySelector('#df-cf9e3326-a448-4e84-a2f5-b2c5318d4016');\n",
              "          const dataTable =\n",
              "            await google.colab.kernel.invokeFunction('convertToInteractive',\n",
              "                                                     [key], {});\n",
              "          if (!dataTable) return;\n",
              "\n",
              "          const docLinkHtml = 'Like what you see? Visit the ' +\n",
              "            '<a target=\"_blank\" href=https://colab.research.google.com/notebooks/data_table.ipynb>data table notebook</a>'\n",
              "            + ' to learn more about interactive tables.';\n",
              "          element.innerHTML = '';\n",
              "          dataTable['output_type'] = 'display_data';\n",
              "          await google.colab.output.renderOutput(dataTable, element);\n",
              "          const docLink = document.createElement('div');\n",
              "          docLink.innerHTML = docLinkHtml;\n",
              "          element.appendChild(docLink);\n",
              "        }\n",
              "      </script>\n",
              "    </div>\n",
              "  </div>\n",
              "  "
            ]
          },
          "metadata": {},
          "execution_count": 6
        }
      ]
    },
    {
      "cell_type": "code",
      "source": [
        "df.info()"
      ],
      "metadata": {
        "colab": {
          "base_uri": "https://localhost:8080/"
        },
        "id": "VT5to1jFEgzD",
        "outputId": "18544f50-d17c-4028-86f4-d37648608c6b"
      },
      "execution_count": 7,
      "outputs": [
        {
          "output_type": "stream",
          "name": "stdout",
          "text": [
            "<class 'pandas.core.frame.DataFrame'>\n",
            "RangeIndex: 541 entries, 0 to 540\n",
            "Data columns (total 45 columns):\n",
            " #   Column                  Non-Null Count  Dtype  \n",
            "---  ------                  --------------  -----  \n",
            " 0   Sl. No                  541 non-null    int64  \n",
            " 1   Patient File No.        541 non-null    int64  \n",
            " 2   PCOS (Y/N)              541 non-null    int64  \n",
            " 3    Age (yrs)              541 non-null    int64  \n",
            " 4   Weight (Kg)             541 non-null    float64\n",
            " 5   Height(Cm)              541 non-null    float64\n",
            " 6   BMI                     242 non-null    float64\n",
            " 7   Blood Group             541 non-null    int64  \n",
            " 8   Pulse rate(bpm)         541 non-null    int64  \n",
            " 9   RR (breaths/min)        541 non-null    int64  \n",
            " 10  Hb(g/dl)                541 non-null    float64\n",
            " 11  Cycle(R/I)              541 non-null    int64  \n",
            " 12  Cycle length(days)      541 non-null    int64  \n",
            " 13  Marraige Status (Yrs)   540 non-null    float64\n",
            " 14  Pregnant(Y/N)           541 non-null    int64  \n",
            " 15  No. of aborptions       541 non-null    int64  \n",
            " 16    I   beta-HCG(mIU/mL)  541 non-null    float64\n",
            " 17  II    beta-HCG(mIU/mL)  541 non-null    object \n",
            " 18  FSH(mIU/mL)             541 non-null    float64\n",
            " 19  LH(mIU/mL)              541 non-null    float64\n",
            " 20  FSH/LH                  9 non-null      float64\n",
            " 21  Hip(inch)               541 non-null    int64  \n",
            " 22  Waist(inch)             541 non-null    int64  \n",
            " 23  Waist:Hip Ratio         9 non-null      float64\n",
            " 24  TSH (mIU/L)             541 non-null    float64\n",
            " 25  AMH(ng/mL)              541 non-null    object \n",
            " 26  PRL(ng/mL)              541 non-null    float64\n",
            " 27  Vit D3 (ng/mL)          541 non-null    float64\n",
            " 28  PRG(ng/mL)              541 non-null    float64\n",
            " 29  RBS(mg/dl)              541 non-null    float64\n",
            " 30  Weight gain(Y/N)        541 non-null    int64  \n",
            " 31  hair growth(Y/N)        541 non-null    int64  \n",
            " 32  Skin darkening (Y/N)    541 non-null    int64  \n",
            " 33  Hair loss(Y/N)          541 non-null    int64  \n",
            " 34  Pimples(Y/N)            541 non-null    int64  \n",
            " 35  Fast food (Y/N)         540 non-null    float64\n",
            " 36  Reg.Exercise(Y/N)       541 non-null    int64  \n",
            " 37  BP _Systolic (mmHg)     541 non-null    int64  \n",
            " 38  BP _Diastolic (mmHg)    541 non-null    int64  \n",
            " 39  Follicle No. (L)        541 non-null    int64  \n",
            " 40  Follicle No. (R)        541 non-null    int64  \n",
            " 41  Avg. F size (L) (mm)    541 non-null    float64\n",
            " 42  Avg. F size (R) (mm)    541 non-null    float64\n",
            " 43  Endometrium (mm)        541 non-null    float64\n",
            " 44  Unnamed: 44             2 non-null      object \n",
            "dtypes: float64(19), int64(23), object(3)\n",
            "memory usage: 190.3+ KB\n"
          ]
        }
      ]
    },
    {
      "cell_type": "code",
      "source": [
        "df.isnull().sum().sort_values(ascending=False).head()"
      ],
      "metadata": {
        "colab": {
          "base_uri": "https://localhost:8080/"
        },
        "id": "3rhhzSl5Es28",
        "outputId": "58b2d4be-ad45-45c4-e0fb-ce7f87eb8ce4"
      },
      "execution_count": 8,
      "outputs": [
        {
          "output_type": "execute_result",
          "data": {
            "text/plain": [
              "Unnamed: 44              539\n",
              "FSH/LH                   532\n",
              "Waist:Hip Ratio          532\n",
              "BMI                      299\n",
              "Marraige Status (Yrs)      1\n",
              "dtype: int64"
            ]
          },
          "metadata": {},
          "execution_count": 8
        }
      ]
    },
    {
      "cell_type": "code",
      "source": [
        "df=df.drop(['Unnamed: 44'], axis = 1)\n",
        "df=df.drop(['Sl. No'], axis = 1)\n",
        "df=df.drop(['Patient File No.'], axis = 1)\n",
        "#df=df.drop(['  I   beta-HCG(mIU/mL)'], axis = 1)\n",
        "df=df.drop(['II    beta-HCG(mIU/mL)'], axis = 1)"
      ],
      "metadata": {
        "id": "spL_nRstExw0"
      },
      "execution_count": 9,
      "outputs": []
    },
    {
      "cell_type": "code",
      "source": [
        "df.columns"
      ],
      "metadata": {
        "colab": {
          "base_uri": "https://localhost:8080/"
        },
        "id": "1TXdtwPqFsm1",
        "outputId": "c7b9d8e8-8525-42b0-9de9-c8b48e345366"
      },
      "execution_count": 10,
      "outputs": [
        {
          "output_type": "execute_result",
          "data": {
            "text/plain": [
              "Index(['PCOS (Y/N)', ' Age (yrs)', 'Weight (Kg)', 'Height(Cm) ', 'BMI',\n",
              "       'Blood Group', 'Pulse rate(bpm) ', 'RR (breaths/min)', 'Hb(g/dl)',\n",
              "       'Cycle(R/I)', 'Cycle length(days)', 'Marraige Status (Yrs)',\n",
              "       'Pregnant(Y/N)', 'No. of aborptions', '  I   beta-HCG(mIU/mL)',\n",
              "       'FSH(mIU/mL)', 'LH(mIU/mL)', 'FSH/LH', 'Hip(inch)', 'Waist(inch)',\n",
              "       'Waist:Hip Ratio', 'TSH (mIU/L)', 'AMH(ng/mL)', 'PRL(ng/mL)',\n",
              "       'Vit D3 (ng/mL)', 'PRG(ng/mL)', 'RBS(mg/dl)', 'Weight gain(Y/N)',\n",
              "       'hair growth(Y/N)', 'Skin darkening (Y/N)', 'Hair loss(Y/N)',\n",
              "       'Pimples(Y/N)', 'Fast food (Y/N)', 'Reg.Exercise(Y/N)',\n",
              "       'BP _Systolic (mmHg)', 'BP _Diastolic (mmHg)', 'Follicle No. (L)',\n",
              "       'Follicle No. (R)', 'Avg. F size (L) (mm)', 'Avg. F size (R) (mm)',\n",
              "       'Endometrium (mm)'],\n",
              "      dtype='object')"
            ]
          },
          "metadata": {},
          "execution_count": 10
        }
      ]
    },
    {
      "cell_type": "code",
      "source": [
        "df=df.drop(['AMH(ng/mL)'], axis = 1)"
      ],
      "metadata": {
        "id": "6rN3CQmbF407"
      },
      "execution_count": 11,
      "outputs": []
    },
    {
      "cell_type": "code",
      "source": [
        "df.isnull().sum().sort_values(ascending=False).head()"
      ],
      "metadata": {
        "colab": {
          "base_uri": "https://localhost:8080/"
        },
        "id": "NddAIAItGH-z",
        "outputId": "584d0012-3130-46d1-fc4c-e164184d8836"
      },
      "execution_count": 12,
      "outputs": [
        {
          "output_type": "execute_result",
          "data": {
            "text/plain": [
              "Waist:Hip Ratio          532\n",
              "FSH/LH                   532\n",
              "BMI                      299\n",
              "Marraige Status (Yrs)      1\n",
              "Fast food (Y/N)            1\n",
              "dtype: int64"
            ]
          },
          "metadata": {},
          "execution_count": 12
        }
      ]
    },
    {
      "cell_type": "code",
      "source": [
        "df['Marraige Status (Yrs)'] = df['Marraige Status (Yrs)'].fillna(method=\"ffill\")\n",
        "df['Fast food (Y/N)'] = df['Fast food (Y/N)'].fillna(method=\"ffill\")"
      ],
      "metadata": {
        "id": "_gLkbsCIGXKD"
      },
      "execution_count": 13,
      "outputs": []
    },
    {
      "cell_type": "code",
      "source": [
        "df.shape"
      ],
      "metadata": {
        "colab": {
          "base_uri": "https://localhost:8080/"
        },
        "id": "-kYHwSjeH7HE",
        "outputId": "055466f6-ff6d-49bc-b7a3-c706bac35398"
      },
      "execution_count": 14,
      "outputs": [
        {
          "output_type": "execute_result",
          "data": {
            "text/plain": [
              "(541, 40)"
            ]
          },
          "metadata": {},
          "execution_count": 14
        }
      ]
    },
    {
      "cell_type": "code",
      "source": [
        "df=df.drop(['Waist:Hip Ratio'], axis = 1)\n",
        "df=df.drop(['FSH/LH'], axis = 1)"
      ],
      "metadata": {
        "id": "s_pa9c9kH-08"
      },
      "execution_count": 15,
      "outputs": []
    },
    {
      "cell_type": "code",
      "source": [
        "df['BMI'].fillna(df['BMI'].median(),inplace=True)"
      ],
      "metadata": {
        "id": "Oq5JjYtuIMdc"
      },
      "execution_count": 16,
      "outputs": []
    },
    {
      "cell_type": "code",
      "source": [
        "df.isnull().sum().sort_values(ascending=False).head()"
      ],
      "metadata": {
        "colab": {
          "base_uri": "https://localhost:8080/"
        },
        "id": "J12-Udt4IWG7",
        "outputId": "dc68d041-3d70-4c77-fc94-f46fd6f153f5"
      },
      "execution_count": 17,
      "outputs": [
        {
          "output_type": "execute_result",
          "data": {
            "text/plain": [
              "PCOS (Y/N)        0\n",
              "Pimples(Y/N)      0\n",
              "Vit D3 (ng/mL)    0\n",
              "PRG(ng/mL)        0\n",
              "RBS(mg/dl)        0\n",
              "dtype: int64"
            ]
          },
          "metadata": {},
          "execution_count": 17
        }
      ]
    },
    {
      "cell_type": "markdown",
      "source": [
        "**Visulization**"
      ],
      "metadata": {
        "id": "hAip7zL5IZoL"
      }
    },
    {
      "cell_type": "code",
      "source": [
        "mean_abs_diff = np.sum(np.abs(df-np.mean(df,axis=0)),axis=0)/df.shape[0]\n",
        "plt.bar(np.arange(df.shape[1]),mean_abs_diff,color='teal')"
      ],
      "metadata": {
        "colab": {
          "base_uri": "https://localhost:8080/",
          "height": 283
        },
        "id": "njkrvYuRBppl",
        "outputId": "d8804b2a-4ce6-4ad8-ddc1-4af941012636"
      },
      "execution_count": 18,
      "outputs": [
        {
          "output_type": "execute_result",
          "data": {
            "text/plain": [
              "<BarContainer object of 38 artists>"
            ]
          },
          "metadata": {},
          "execution_count": 18
        },
        {
          "output_type": "display_data",
          "data": {
            "text/plain": [
              "<Figure size 432x288 with 1 Axes>"
            ],
            "image/png": "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\n"
          },
          "metadata": {
            "needs_background": "light"
          }
        }
      ]
    },
    {
      "cell_type": "code",
      "source": [
        "color = [\"teal\", \"plum\"]\n",
        "features = [\"Follicle No. (L)\",\"Follicle No. (R)\"]\n",
        "for i in features:\n",
        "    sns.swarmplot(x=df[\"PCOS (Y/N)\"], y=df[i], color=\"black\", alpha=0.5 )\n",
        "    sns.boxenplot(x=df[\"PCOS (Y/N)\"], y=df[i], palette=color)\n",
        "    plt.show()"
      ],
      "metadata": {
        "colab": {
          "base_uri": "https://localhost:8080/",
          "height": 634
        },
        "id": "jagsNTSVIdDL",
        "outputId": "e6b57d5a-4731-4a7c-ae11-6b6b354c7b35"
      },
      "execution_count": 19,
      "outputs": [
        {
          "output_type": "stream",
          "name": "stderr",
          "text": [
            "/usr/local/lib/python3.7/dist-packages/seaborn/categorical.py:1296: UserWarning: 35.7% of the points cannot be placed; you may want to decrease the size of the markers or use stripplot.\n",
            "  warnings.warn(msg, UserWarning)\n"
          ]
        },
        {
          "output_type": "display_data",
          "data": {
            "text/plain": [
              "<Figure size 432x288 with 1 Axes>"
            ],
            "image/png": "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\n"
          },
          "metadata": {
            "needs_background": "light"
          }
        },
        {
          "output_type": "stream",
          "name": "stderr",
          "text": [
            "/usr/local/lib/python3.7/dist-packages/seaborn/categorical.py:1296: UserWarning: 34.3% of the points cannot be placed; you may want to decrease the size of the markers or use stripplot.\n",
            "  warnings.warn(msg, UserWarning)\n"
          ]
        },
        {
          "output_type": "display_data",
          "data": {
            "text/plain": [
              "<Figure size 432x288 with 1 Axes>"
            ],
            "image/png": "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\n"
          },
          "metadata": {
            "needs_background": "light"
          }
        }
      ]
    },
    {
      "cell_type": "markdown",
      "source": [
        "The number of follicles in women with PCOS is higher, as expected. And are unequal as well."
      ],
      "metadata": {
        "id": "QC5Q_6J_Irn0"
      }
    },
    {
      "cell_type": "code",
      "source": [
        "features = [\"Avg. F size (L) (mm)\",\"Avg. F size (R) (mm)\"]\n",
        "for i in features:\n",
        "    sns.swarmplot(x=df[\"PCOS (Y/N)\"], y=df[i], color=\"black\", alpha=0.5 )\n",
        "    sns.boxenplot(x=df[\"PCOS (Y/N)\"], y=df[i], palette=color)\n",
        "    plt.show()"
      ],
      "metadata": {
        "colab": {
          "base_uri": "https://localhost:8080/",
          "height": 677
        },
        "id": "ZccJAepwI2J2",
        "outputId": "10665c5a-2ba4-4bfa-8846-133ed15348a4"
      },
      "execution_count": 20,
      "outputs": [
        {
          "output_type": "stream",
          "name": "stderr",
          "text": [
            "/usr/local/lib/python3.7/dist-packages/seaborn/categorical.py:1296: UserWarning: 20.6% of the points cannot be placed; you may want to decrease the size of the markers or use stripplot.\n",
            "  warnings.warn(msg, UserWarning)\n",
            "/usr/local/lib/python3.7/dist-packages/seaborn/categorical.py:1296: UserWarning: 6.2% of the points cannot be placed; you may want to decrease the size of the markers or use stripplot.\n",
            "  warnings.warn(msg, UserWarning)\n"
          ]
        },
        {
          "output_type": "display_data",
          "data": {
            "text/plain": [
              "<Figure size 432x288 with 1 Axes>"
            ],
            "image/png": "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\n"
          },
          "metadata": {
            "needs_background": "light"
          }
        },
        {
          "output_type": "stream",
          "name": "stderr",
          "text": [
            "/usr/local/lib/python3.7/dist-packages/seaborn/categorical.py:1296: UserWarning: 25.3% of the points cannot be placed; you may want to decrease the size of the markers or use stripplot.\n",
            "  warnings.warn(msg, UserWarning)\n"
          ]
        },
        {
          "output_type": "display_data",
          "data": {
            "text/plain": [
              "<Figure size 432x288 with 1 Axes>"
            ],
            "image/png": "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\n"
          },
          "metadata": {
            "needs_background": "light"
          }
        }
      ]
    },
    {
      "cell_type": "code",
      "source": [
        "features = ['Hip(inch)', 'Waist(inch)']\n",
        "for i in features:\n",
        "    sns.swarmplot(x=df[\"PCOS (Y/N)\"], y=df[i], color=\"black\", alpha=0.5 )\n",
        "    sns.boxenplot(x=df[\"PCOS (Y/N)\"], y=df[i], palette=color)\n",
        "    plt.show()"
      ],
      "metadata": {
        "colab": {
          "base_uri": "https://localhost:8080/",
          "height": 671
        },
        "id": "RRNhBl11JB6r",
        "outputId": "03b85079-10a7-4dc4-870e-35d7199f0d7e"
      },
      "execution_count": 21,
      "outputs": [
        {
          "output_type": "stream",
          "name": "stderr",
          "text": [
            "/usr/local/lib/python3.7/dist-packages/seaborn/categorical.py:1296: UserWarning: 25.5% of the points cannot be placed; you may want to decrease the size of the markers or use stripplot.\n",
            "  warnings.warn(msg, UserWarning)\n"
          ]
        },
        {
          "output_type": "display_data",
          "data": {
            "text/plain": [
              "<Figure size 432x288 with 1 Axes>"
            ],
            "image/png": "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\n"
          },
          "metadata": {
            "needs_background": "light"
          }
        },
        {
          "output_type": "stream",
          "name": "stderr",
          "text": [
            "/usr/local/lib/python3.7/dist-packages/seaborn/categorical.py:1296: UserWarning: 33.0% of the points cannot be placed; you may want to decrease the size of the markers or use stripplot.\n",
            "  warnings.warn(msg, UserWarning)\n",
            "/usr/local/lib/python3.7/dist-packages/seaborn/categorical.py:1296: UserWarning: 5.1% of the points cannot be placed; you may want to decrease the size of the markers or use stripplot.\n",
            "  warnings.warn(msg, UserWarning)\n"
          ]
        },
        {
          "output_type": "display_data",
          "data": {
            "text/plain": [
              "<Figure size 432x288 with 1 Axes>"
            ],
            "image/png": "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\n"
          },
          "metadata": {
            "needs_background": "light"
          }
        }
      ]
    },
    {
      "cell_type": "markdown",
      "source": [
        "Selecting Target and feature value"
      ],
      "metadata": {
        "id": "Sq3vQmc1JleU"
      }
    },
    {
      "cell_type": "code",
      "source": [
        "x = df.drop(['PCOS (Y/N)'],axis=1)\n",
        "y = df['PCOS (Y/N)']"
      ],
      "metadata": {
        "id": "pk7HkFVWJpNL"
      },
      "execution_count": 22,
      "outputs": []
    },
    {
      "cell_type": "code",
      "source": [
        "x"
      ],
      "metadata": {
        "colab": {
          "base_uri": "https://localhost:8080/",
          "height": 557
        },
        "id": "MU0T0rZOJ0CK",
        "outputId": "be0c0ec3-8b9a-4cf2-c415-d8d941f6dc63"
      },
      "execution_count": 23,
      "outputs": [
        {
          "output_type": "execute_result",
          "data": {
            "text/plain": [
              "      Age (yrs)  Weight (Kg)  Height(Cm)    BMI  Blood Group  \\\n",
              "0            28         44.6      152.000  19.3           15   \n",
              "1            36         65.0      161.500  24.0           15   \n",
              "2            33         68.8      165.000  24.0           11   \n",
              "3            37         65.0      148.000  24.0           13   \n",
              "4            25         52.0      161.000  24.0           11   \n",
              "..          ...          ...          ...   ...          ...   \n",
              "536          35         50.0      164.592  18.5           17   \n",
              "537          30         63.2      158.000  25.3           15   \n",
              "538          36         54.0      152.000  23.4           13   \n",
              "539          27         50.0      150.000  22.2           15   \n",
              "540          23         82.0      165.000  30.1           13   \n",
              "\n",
              "     Pulse rate(bpm)   RR (breaths/min)  Hb(g/dl)  Cycle(R/I)  \\\n",
              "0                  78                22     10.48           2   \n",
              "1                  74                20     11.70           2   \n",
              "2                  72                18     11.80           2   \n",
              "3                  72                20     12.00           2   \n",
              "4                  72                18     10.00           2   \n",
              "..                ...               ...       ...         ...   \n",
              "536                72                16     11.00           2   \n",
              "537                72                18     10.80           2   \n",
              "538                74                20     10.80           2   \n",
              "539                74                20     12.00           4   \n",
              "540                80                20     10.20           4   \n",
              "\n",
              "     Cycle length(days)  ...  Pimples(Y/N)  Fast food (Y/N)  \\\n",
              "0                     5  ...             0              1.0   \n",
              "1                     5  ...             0              0.0   \n",
              "2                     5  ...             1              1.0   \n",
              "3                     5  ...             0              0.0   \n",
              "4                     5  ...             0              0.0   \n",
              "..                  ...  ...           ...              ...   \n",
              "536                   5  ...             0              0.0   \n",
              "537                   5  ...             0              0.0   \n",
              "538                   6  ...             0              0.0   \n",
              "539                   2  ...             1              0.0   \n",
              "540                   7  ...             1              1.0   \n",
              "\n",
              "     Reg.Exercise(Y/N)  BP _Systolic (mmHg)  BP _Diastolic (mmHg)  \\\n",
              "0                    0                  110                    80   \n",
              "1                    0                  120                    70   \n",
              "2                    0                  120                    80   \n",
              "3                    0                  120                    70   \n",
              "4                    0                  120                    80   \n",
              "..                 ...                  ...                   ...   \n",
              "536                  0                  110                    70   \n",
              "537                  0                  110                    70   \n",
              "538                  0                  110                    80   \n",
              "539                  0                  110                    70   \n",
              "540                  0                  120                    70   \n",
              "\n",
              "     Follicle No. (L)  Follicle No. (R)  Avg. F size (L) (mm)  \\\n",
              "0                   3                 3                  18.0   \n",
              "1                   3                 5                  15.0   \n",
              "2                  13                15                  18.0   \n",
              "3                   2                 2                  15.0   \n",
              "4                   3                 4                  16.0   \n",
              "..                ...               ...                   ...   \n",
              "536                 1                 0                  17.5   \n",
              "537                 9                 7                  19.0   \n",
              "538                 1                 0                  18.0   \n",
              "539                 7                 6                  18.0   \n",
              "540                 9                10                  19.0   \n",
              "\n",
              "     Avg. F size (R) (mm)  Endometrium (mm)  \n",
              "0                    18.0               8.5  \n",
              "1                    14.0               3.7  \n",
              "2                    20.0              10.0  \n",
              "3                    14.0               7.5  \n",
              "4                    14.0               7.0  \n",
              "..                    ...               ...  \n",
              "536                  10.0               6.7  \n",
              "537                  18.0               8.2  \n",
              "538                   9.0               7.3  \n",
              "539                  16.0              11.5  \n",
              "540                  18.0               6.9  \n",
              "\n",
              "[541 rows x 37 columns]"
            ],
            "text/html": [
              "\n",
              "  <div id=\"df-111f972d-b721-4a0b-9761-858d12621685\">\n",
              "    <div class=\"colab-df-container\">\n",
              "      <div>\n",
              "<style scoped>\n",
              "    .dataframe tbody tr th:only-of-type {\n",
              "        vertical-align: middle;\n",
              "    }\n",
              "\n",
              "    .dataframe tbody tr th {\n",
              "        vertical-align: top;\n",
              "    }\n",
              "\n",
              "    .dataframe thead th {\n",
              "        text-align: right;\n",
              "    }\n",
              "</style>\n",
              "<table border=\"1\" class=\"dataframe\">\n",
              "  <thead>\n",
              "    <tr style=\"text-align: right;\">\n",
              "      <th></th>\n",
              "      <th>Age (yrs)</th>\n",
              "      <th>Weight (Kg)</th>\n",
              "      <th>Height(Cm)</th>\n",
              "      <th>BMI</th>\n",
              "      <th>Blood Group</th>\n",
              "      <th>Pulse rate(bpm)</th>\n",
              "      <th>RR (breaths/min)</th>\n",
              "      <th>Hb(g/dl)</th>\n",
              "      <th>Cycle(R/I)</th>\n",
              "      <th>Cycle length(days)</th>\n",
              "      <th>...</th>\n",
              "      <th>Pimples(Y/N)</th>\n",
              "      <th>Fast food (Y/N)</th>\n",
              "      <th>Reg.Exercise(Y/N)</th>\n",
              "      <th>BP _Systolic (mmHg)</th>\n",
              "      <th>BP _Diastolic (mmHg)</th>\n",
              "      <th>Follicle No. (L)</th>\n",
              "      <th>Follicle No. (R)</th>\n",
              "      <th>Avg. F size (L) (mm)</th>\n",
              "      <th>Avg. F size (R) (mm)</th>\n",
              "      <th>Endometrium (mm)</th>\n",
              "    </tr>\n",
              "  </thead>\n",
              "  <tbody>\n",
              "    <tr>\n",
              "      <th>0</th>\n",
              "      <td>28</td>\n",
              "      <td>44.6</td>\n",
              "      <td>152.000</td>\n",
              "      <td>19.3</td>\n",
              "      <td>15</td>\n",
              "      <td>78</td>\n",
              "      <td>22</td>\n",
              "      <td>10.48</td>\n",
              "      <td>2</td>\n",
              "      <td>5</td>\n",
              "      <td>...</td>\n",
              "      <td>0</td>\n",
              "      <td>1.0</td>\n",
              "      <td>0</td>\n",
              "      <td>110</td>\n",
              "      <td>80</td>\n",
              "      <td>3</td>\n",
              "      <td>3</td>\n",
              "      <td>18.0</td>\n",
              "      <td>18.0</td>\n",
              "      <td>8.5</td>\n",
              "    </tr>\n",
              "    <tr>\n",
              "      <th>1</th>\n",
              "      <td>36</td>\n",
              "      <td>65.0</td>\n",
              "      <td>161.500</td>\n",
              "      <td>24.0</td>\n",
              "      <td>15</td>\n",
              "      <td>74</td>\n",
              "      <td>20</td>\n",
              "      <td>11.70</td>\n",
              "      <td>2</td>\n",
              "      <td>5</td>\n",
              "      <td>...</td>\n",
              "      <td>0</td>\n",
              "      <td>0.0</td>\n",
              "      <td>0</td>\n",
              "      <td>120</td>\n",
              "      <td>70</td>\n",
              "      <td>3</td>\n",
              "      <td>5</td>\n",
              "      <td>15.0</td>\n",
              "      <td>14.0</td>\n",
              "      <td>3.7</td>\n",
              "    </tr>\n",
              "    <tr>\n",
              "      <th>2</th>\n",
              "      <td>33</td>\n",
              "      <td>68.8</td>\n",
              "      <td>165.000</td>\n",
              "      <td>24.0</td>\n",
              "      <td>11</td>\n",
              "      <td>72</td>\n",
              "      <td>18</td>\n",
              "      <td>11.80</td>\n",
              "      <td>2</td>\n",
              "      <td>5</td>\n",
              "      <td>...</td>\n",
              "      <td>1</td>\n",
              "      <td>1.0</td>\n",
              "      <td>0</td>\n",
              "      <td>120</td>\n",
              "      <td>80</td>\n",
              "      <td>13</td>\n",
              "      <td>15</td>\n",
              "      <td>18.0</td>\n",
              "      <td>20.0</td>\n",
              "      <td>10.0</td>\n",
              "    </tr>\n",
              "    <tr>\n",
              "      <th>3</th>\n",
              "      <td>37</td>\n",
              "      <td>65.0</td>\n",
              "      <td>148.000</td>\n",
              "      <td>24.0</td>\n",
              "      <td>13</td>\n",
              "      <td>72</td>\n",
              "      <td>20</td>\n",
              "      <td>12.00</td>\n",
              "      <td>2</td>\n",
              "      <td>5</td>\n",
              "      <td>...</td>\n",
              "      <td>0</td>\n",
              "      <td>0.0</td>\n",
              "      <td>0</td>\n",
              "      <td>120</td>\n",
              "      <td>70</td>\n",
              "      <td>2</td>\n",
              "      <td>2</td>\n",
              "      <td>15.0</td>\n",
              "      <td>14.0</td>\n",
              "      <td>7.5</td>\n",
              "    </tr>\n",
              "    <tr>\n",
              "      <th>4</th>\n",
              "      <td>25</td>\n",
              "      <td>52.0</td>\n",
              "      <td>161.000</td>\n",
              "      <td>24.0</td>\n",
              "      <td>11</td>\n",
              "      <td>72</td>\n",
              "      <td>18</td>\n",
              "      <td>10.00</td>\n",
              "      <td>2</td>\n",
              "      <td>5</td>\n",
              "      <td>...</td>\n",
              "      <td>0</td>\n",
              "      <td>0.0</td>\n",
              "      <td>0</td>\n",
              "      <td>120</td>\n",
              "      <td>80</td>\n",
              "      <td>3</td>\n",
              "      <td>4</td>\n",
              "      <td>16.0</td>\n",
              "      <td>14.0</td>\n",
              "      <td>7.0</td>\n",
              "    </tr>\n",
              "    <tr>\n",
              "      <th>...</th>\n",
              "      <td>...</td>\n",
              "      <td>...</td>\n",
              "      <td>...</td>\n",
              "      <td>...</td>\n",
              "      <td>...</td>\n",
              "      <td>...</td>\n",
              "      <td>...</td>\n",
              "      <td>...</td>\n",
              "      <td>...</td>\n",
              "      <td>...</td>\n",
              "      <td>...</td>\n",
              "      <td>...</td>\n",
              "      <td>...</td>\n",
              "      <td>...</td>\n",
              "      <td>...</td>\n",
              "      <td>...</td>\n",
              "      <td>...</td>\n",
              "      <td>...</td>\n",
              "      <td>...</td>\n",
              "      <td>...</td>\n",
              "      <td>...</td>\n",
              "    </tr>\n",
              "    <tr>\n",
              "      <th>536</th>\n",
              "      <td>35</td>\n",
              "      <td>50.0</td>\n",
              "      <td>164.592</td>\n",
              "      <td>18.5</td>\n",
              "      <td>17</td>\n",
              "      <td>72</td>\n",
              "      <td>16</td>\n",
              "      <td>11.00</td>\n",
              "      <td>2</td>\n",
              "      <td>5</td>\n",
              "      <td>...</td>\n",
              "      <td>0</td>\n",
              "      <td>0.0</td>\n",
              "      <td>0</td>\n",
              "      <td>110</td>\n",
              "      <td>70</td>\n",
              "      <td>1</td>\n",
              "      <td>0</td>\n",
              "      <td>17.5</td>\n",
              "      <td>10.0</td>\n",
              "      <td>6.7</td>\n",
              "    </tr>\n",
              "    <tr>\n",
              "      <th>537</th>\n",
              "      <td>30</td>\n",
              "      <td>63.2</td>\n",
              "      <td>158.000</td>\n",
              "      <td>25.3</td>\n",
              "      <td>15</td>\n",
              "      <td>72</td>\n",
              "      <td>18</td>\n",
              "      <td>10.80</td>\n",
              "      <td>2</td>\n",
              "      <td>5</td>\n",
              "      <td>...</td>\n",
              "      <td>0</td>\n",
              "      <td>0.0</td>\n",
              "      <td>0</td>\n",
              "      <td>110</td>\n",
              "      <td>70</td>\n",
              "      <td>9</td>\n",
              "      <td>7</td>\n",
              "      <td>19.0</td>\n",
              "      <td>18.0</td>\n",
              "      <td>8.2</td>\n",
              "    </tr>\n",
              "    <tr>\n",
              "      <th>538</th>\n",
              "      <td>36</td>\n",
              "      <td>54.0</td>\n",
              "      <td>152.000</td>\n",
              "      <td>23.4</td>\n",
              "      <td>13</td>\n",
              "      <td>74</td>\n",
              "      <td>20</td>\n",
              "      <td>10.80</td>\n",
              "      <td>2</td>\n",
              "      <td>6</td>\n",
              "      <td>...</td>\n",
              "      <td>0</td>\n",
              "      <td>0.0</td>\n",
              "      <td>0</td>\n",
              "      <td>110</td>\n",
              "      <td>80</td>\n",
              "      <td>1</td>\n",
              "      <td>0</td>\n",
              "      <td>18.0</td>\n",
              "      <td>9.0</td>\n",
              "      <td>7.3</td>\n",
              "    </tr>\n",
              "    <tr>\n",
              "      <th>539</th>\n",
              "      <td>27</td>\n",
              "      <td>50.0</td>\n",
              "      <td>150.000</td>\n",
              "      <td>22.2</td>\n",
              "      <td>15</td>\n",
              "      <td>74</td>\n",
              "      <td>20</td>\n",
              "      <td>12.00</td>\n",
              "      <td>4</td>\n",
              "      <td>2</td>\n",
              "      <td>...</td>\n",
              "      <td>1</td>\n",
              "      <td>0.0</td>\n",
              "      <td>0</td>\n",
              "      <td>110</td>\n",
              "      <td>70</td>\n",
              "      <td>7</td>\n",
              "      <td>6</td>\n",
              "      <td>18.0</td>\n",
              "      <td>16.0</td>\n",
              "      <td>11.5</td>\n",
              "    </tr>\n",
              "    <tr>\n",
              "      <th>540</th>\n",
              "      <td>23</td>\n",
              "      <td>82.0</td>\n",
              "      <td>165.000</td>\n",
              "      <td>30.1</td>\n",
              "      <td>13</td>\n",
              "      <td>80</td>\n",
              "      <td>20</td>\n",
              "      <td>10.20</td>\n",
              "      <td>4</td>\n",
              "      <td>7</td>\n",
              "      <td>...</td>\n",
              "      <td>1</td>\n",
              "      <td>1.0</td>\n",
              "      <td>0</td>\n",
              "      <td>120</td>\n",
              "      <td>70</td>\n",
              "      <td>9</td>\n",
              "      <td>10</td>\n",
              "      <td>19.0</td>\n",
              "      <td>18.0</td>\n",
              "      <td>6.9</td>\n",
              "    </tr>\n",
              "  </tbody>\n",
              "</table>\n",
              "<p>541 rows × 37 columns</p>\n",
              "</div>\n",
              "      <button class=\"colab-df-convert\" onclick=\"convertToInteractive('df-111f972d-b721-4a0b-9761-858d12621685')\"\n",
              "              title=\"Convert this dataframe to an interactive table.\"\n",
              "              style=\"display:none;\">\n",
              "        \n",
              "  <svg xmlns=\"http://www.w3.org/2000/svg\" height=\"24px\"viewBox=\"0 0 24 24\"\n",
              "       width=\"24px\">\n",
              "    <path d=\"M0 0h24v24H0V0z\" fill=\"none\"/>\n",
              "    <path d=\"M18.56 5.44l.94 2.06.94-2.06 2.06-.94-2.06-.94-.94-2.06-.94 2.06-2.06.94zm-11 1L8.5 8.5l.94-2.06 2.06-.94-2.06-.94L8.5 2.5l-.94 2.06-2.06.94zm10 10l.94 2.06.94-2.06 2.06-.94-2.06-.94-.94-2.06-.94 2.06-2.06.94z\"/><path d=\"M17.41 7.96l-1.37-1.37c-.4-.4-.92-.59-1.43-.59-.52 0-1.04.2-1.43.59L10.3 9.45l-7.72 7.72c-.78.78-.78 2.05 0 2.83L4 21.41c.39.39.9.59 1.41.59.51 0 1.02-.2 1.41-.59l7.78-7.78 2.81-2.81c.8-.78.8-2.07 0-2.86zM5.41 20L4 18.59l7.72-7.72 1.47 1.35L5.41 20z\"/>\n",
              "  </svg>\n",
              "      </button>\n",
              "      \n",
              "  <style>\n",
              "    .colab-df-container {\n",
              "      display:flex;\n",
              "      flex-wrap:wrap;\n",
              "      gap: 12px;\n",
              "    }\n",
              "\n",
              "    .colab-df-convert {\n",
              "      background-color: #E8F0FE;\n",
              "      border: none;\n",
              "      border-radius: 50%;\n",
              "      cursor: pointer;\n",
              "      display: none;\n",
              "      fill: #1967D2;\n",
              "      height: 32px;\n",
              "      padding: 0 0 0 0;\n",
              "      width: 32px;\n",
              "    }\n",
              "\n",
              "    .colab-df-convert:hover {\n",
              "      background-color: #E2EBFA;\n",
              "      box-shadow: 0px 1px 2px rgba(60, 64, 67, 0.3), 0px 1px 3px 1px rgba(60, 64, 67, 0.15);\n",
              "      fill: #174EA6;\n",
              "    }\n",
              "\n",
              "    [theme=dark] .colab-df-convert {\n",
              "      background-color: #3B4455;\n",
              "      fill: #D2E3FC;\n",
              "    }\n",
              "\n",
              "    [theme=dark] .colab-df-convert:hover {\n",
              "      background-color: #434B5C;\n",
              "      box-shadow: 0px 1px 3px 1px rgba(0, 0, 0, 0.15);\n",
              "      filter: drop-shadow(0px 1px 2px rgba(0, 0, 0, 0.3));\n",
              "      fill: #FFFFFF;\n",
              "    }\n",
              "  </style>\n",
              "\n",
              "      <script>\n",
              "        const buttonEl =\n",
              "          document.querySelector('#df-111f972d-b721-4a0b-9761-858d12621685 button.colab-df-convert');\n",
              "        buttonEl.style.display =\n",
              "          google.colab.kernel.accessAllowed ? 'block' : 'none';\n",
              "\n",
              "        async function convertToInteractive(key) {\n",
              "          const element = document.querySelector('#df-111f972d-b721-4a0b-9761-858d12621685');\n",
              "          const dataTable =\n",
              "            await google.colab.kernel.invokeFunction('convertToInteractive',\n",
              "                                                     [key], {});\n",
              "          if (!dataTable) return;\n",
              "\n",
              "          const docLinkHtml = 'Like what you see? Visit the ' +\n",
              "            '<a target=\"_blank\" href=https://colab.research.google.com/notebooks/data_table.ipynb>data table notebook</a>'\n",
              "            + ' to learn more about interactive tables.';\n",
              "          element.innerHTML = '';\n",
              "          dataTable['output_type'] = 'display_data';\n",
              "          await google.colab.output.renderOutput(dataTable, element);\n",
              "          const docLink = document.createElement('div');\n",
              "          docLink.innerHTML = docLinkHtml;\n",
              "          element.appendChild(docLink);\n",
              "        }\n",
              "      </script>\n",
              "    </div>\n",
              "  </div>\n",
              "  "
            ]
          },
          "metadata": {},
          "execution_count": 23
        }
      ]
    },
    {
      "cell_type": "markdown",
      "source": [
        "Normalization"
      ],
      "metadata": {
        "id": "fcvIEptkOCe_"
      }
    },
    {
      "cell_type": "code",
      "source": [
        "from sklearn.preprocessing import MinMaxScaler\n",
        "sscaler = MinMaxScaler() #helps us scale the dataset. This makes it easy for the model to train\n",
        "cols = x.columns\n",
        "y_scaled = sscaler.fit_transform(x)\n",
        "x_scaled = pd.DataFrame(y_scaled, columns = cols)\n",
        "x_scaled"
      ],
      "metadata": {
        "colab": {
          "base_uri": "https://localhost:8080/",
          "height": 539
        },
        "id": "nVssI5SfOJcU",
        "outputId": "22312f54-1fe2-40f4-e9ca-83fa52abdaba"
      },
      "execution_count": 24,
      "outputs": [
        {
          "output_type": "execute_result",
          "data": {
            "text/plain": [
              "      Age (yrs)  Weight (Kg)  Height(Cm)        BMI  Blood Group  \\\n",
              "0      0.285714     0.176623     0.348837  0.176471     0.571429   \n",
              "1      0.571429     0.441558     0.569767  0.373950     0.571429   \n",
              "2      0.464286     0.490909     0.651163  0.373950     0.000000   \n",
              "3      0.607143     0.441558     0.255814  0.373950     0.285714   \n",
              "4      0.178571     0.272727     0.558140  0.373950     0.000000   \n",
              "..          ...          ...          ...       ...          ...   \n",
              "536    0.535714     0.246753     0.641674  0.142857     0.857143   \n",
              "537    0.357143     0.418182     0.488372  0.428571     0.571429   \n",
              "538    0.571429     0.298701     0.348837  0.348739     0.285714   \n",
              "539    0.250000     0.246753     0.302326  0.298319     0.571429   \n",
              "540    0.107143     0.662338     0.651163  0.630252     0.285714   \n",
              "\n",
              "     Pulse rate(bpm)   RR (breaths/min)  Hb(g/dl)  Cycle(R/I)  \\\n",
              "0            0.942029          0.500000  0.314286    0.000000   \n",
              "1            0.884058          0.333333  0.507937    0.000000   \n",
              "2            0.855072          0.166667  0.523810    0.000000   \n",
              "3            0.855072          0.333333  0.555556    0.000000   \n",
              "4            0.855072          0.166667  0.238095    0.000000   \n",
              "..                ...               ...       ...         ...   \n",
              "536          0.855072          0.000000  0.396825    0.000000   \n",
              "537          0.855072          0.166667  0.365079    0.000000   \n",
              "538          0.884058          0.333333  0.365079    0.000000   \n",
              "539          0.884058          0.333333  0.555556    0.666667   \n",
              "540          0.971014          0.333333  0.269841    0.666667   \n",
              "\n",
              "     Cycle length(days)  ...  Pimples(Y/N)  Fast food (Y/N)  \\\n",
              "0              0.416667  ...           0.0              1.0   \n",
              "1              0.416667  ...           0.0              0.0   \n",
              "2              0.416667  ...           1.0              1.0   \n",
              "3              0.416667  ...           0.0              0.0   \n",
              "4              0.416667  ...           0.0              0.0   \n",
              "..                  ...  ...           ...              ...   \n",
              "536            0.416667  ...           0.0              0.0   \n",
              "537            0.416667  ...           0.0              0.0   \n",
              "538            0.500000  ...           0.0              0.0   \n",
              "539            0.166667  ...           1.0              0.0   \n",
              "540            0.583333  ...           1.0              1.0   \n",
              "\n",
              "     Reg.Exercise(Y/N)  BP _Systolic (mmHg)  BP _Diastolic (mmHg)  \\\n",
              "0                  0.0             0.765625              0.782609   \n",
              "1                  0.0             0.843750              0.673913   \n",
              "2                  0.0             0.843750              0.782609   \n",
              "3                  0.0             0.843750              0.673913   \n",
              "4                  0.0             0.843750              0.782609   \n",
              "..                 ...                  ...                   ...   \n",
              "536                0.0             0.765625              0.673913   \n",
              "537                0.0             0.765625              0.673913   \n",
              "538                0.0             0.765625              0.782609   \n",
              "539                0.0             0.765625              0.673913   \n",
              "540                0.0             0.843750              0.673913   \n",
              "\n",
              "     Follicle No. (L)  Follicle No. (R)  Avg. F size (L) (mm)  \\\n",
              "0            0.136364              0.15              0.750000   \n",
              "1            0.136364              0.25              0.625000   \n",
              "2            0.590909              0.75              0.750000   \n",
              "3            0.090909              0.10              0.625000   \n",
              "4            0.136364              0.20              0.666667   \n",
              "..                ...               ...                   ...   \n",
              "536          0.045455              0.00              0.729167   \n",
              "537          0.409091              0.35              0.791667   \n",
              "538          0.045455              0.00              0.750000   \n",
              "539          0.318182              0.30              0.750000   \n",
              "540          0.409091              0.50              0.791667   \n",
              "\n",
              "     Avg. F size (R) (mm)  Endometrium (mm)  \n",
              "0                0.750000          0.472222  \n",
              "1                0.583333          0.205556  \n",
              "2                0.833333          0.555556  \n",
              "3                0.583333          0.416667  \n",
              "4                0.583333          0.388889  \n",
              "..                    ...               ...  \n",
              "536              0.416667          0.372222  \n",
              "537              0.750000          0.455556  \n",
              "538              0.375000          0.405556  \n",
              "539              0.666667          0.638889  \n",
              "540              0.750000          0.383333  \n",
              "\n",
              "[541 rows x 37 columns]"
            ],
            "text/html": [
              "\n",
              "  <div id=\"df-ea91493e-6fbc-4f2b-bae2-89d8eb129971\">\n",
              "    <div class=\"colab-df-container\">\n",
              "      <div>\n",
              "<style scoped>\n",
              "    .dataframe tbody tr th:only-of-type {\n",
              "        vertical-align: middle;\n",
              "    }\n",
              "\n",
              "    .dataframe tbody tr th {\n",
              "        vertical-align: top;\n",
              "    }\n",
              "\n",
              "    .dataframe thead th {\n",
              "        text-align: right;\n",
              "    }\n",
              "</style>\n",
              "<table border=\"1\" class=\"dataframe\">\n",
              "  <thead>\n",
              "    <tr style=\"text-align: right;\">\n",
              "      <th></th>\n",
              "      <th>Age (yrs)</th>\n",
              "      <th>Weight (Kg)</th>\n",
              "      <th>Height(Cm)</th>\n",
              "      <th>BMI</th>\n",
              "      <th>Blood Group</th>\n",
              "      <th>Pulse rate(bpm)</th>\n",
              "      <th>RR (breaths/min)</th>\n",
              "      <th>Hb(g/dl)</th>\n",
              "      <th>Cycle(R/I)</th>\n",
              "      <th>Cycle length(days)</th>\n",
              "      <th>...</th>\n",
              "      <th>Pimples(Y/N)</th>\n",
              "      <th>Fast food (Y/N)</th>\n",
              "      <th>Reg.Exercise(Y/N)</th>\n",
              "      <th>BP _Systolic (mmHg)</th>\n",
              "      <th>BP _Diastolic (mmHg)</th>\n",
              "      <th>Follicle No. (L)</th>\n",
              "      <th>Follicle No. (R)</th>\n",
              "      <th>Avg. F size (L) (mm)</th>\n",
              "      <th>Avg. F size (R) (mm)</th>\n",
              "      <th>Endometrium (mm)</th>\n",
              "    </tr>\n",
              "  </thead>\n",
              "  <tbody>\n",
              "    <tr>\n",
              "      <th>0</th>\n",
              "      <td>0.285714</td>\n",
              "      <td>0.176623</td>\n",
              "      <td>0.348837</td>\n",
              "      <td>0.176471</td>\n",
              "      <td>0.571429</td>\n",
              "      <td>0.942029</td>\n",
              "      <td>0.500000</td>\n",
              "      <td>0.314286</td>\n",
              "      <td>0.000000</td>\n",
              "      <td>0.416667</td>\n",
              "      <td>...</td>\n",
              "      <td>0.0</td>\n",
              "      <td>1.0</td>\n",
              "      <td>0.0</td>\n",
              "      <td>0.765625</td>\n",
              "      <td>0.782609</td>\n",
              "      <td>0.136364</td>\n",
              "      <td>0.15</td>\n",
              "      <td>0.750000</td>\n",
              "      <td>0.750000</td>\n",
              "      <td>0.472222</td>\n",
              "    </tr>\n",
              "    <tr>\n",
              "      <th>1</th>\n",
              "      <td>0.571429</td>\n",
              "      <td>0.441558</td>\n",
              "      <td>0.569767</td>\n",
              "      <td>0.373950</td>\n",
              "      <td>0.571429</td>\n",
              "      <td>0.884058</td>\n",
              "      <td>0.333333</td>\n",
              "      <td>0.507937</td>\n",
              "      <td>0.000000</td>\n",
              "      <td>0.416667</td>\n",
              "      <td>...</td>\n",
              "      <td>0.0</td>\n",
              "      <td>0.0</td>\n",
              "      <td>0.0</td>\n",
              "      <td>0.843750</td>\n",
              "      <td>0.673913</td>\n",
              "      <td>0.136364</td>\n",
              "      <td>0.25</td>\n",
              "      <td>0.625000</td>\n",
              "      <td>0.583333</td>\n",
              "      <td>0.205556</td>\n",
              "    </tr>\n",
              "    <tr>\n",
              "      <th>2</th>\n",
              "      <td>0.464286</td>\n",
              "      <td>0.490909</td>\n",
              "      <td>0.651163</td>\n",
              "      <td>0.373950</td>\n",
              "      <td>0.000000</td>\n",
              "      <td>0.855072</td>\n",
              "      <td>0.166667</td>\n",
              "      <td>0.523810</td>\n",
              "      <td>0.000000</td>\n",
              "      <td>0.416667</td>\n",
              "      <td>...</td>\n",
              "      <td>1.0</td>\n",
              "      <td>1.0</td>\n",
              "      <td>0.0</td>\n",
              "      <td>0.843750</td>\n",
              "      <td>0.782609</td>\n",
              "      <td>0.590909</td>\n",
              "      <td>0.75</td>\n",
              "      <td>0.750000</td>\n",
              "      <td>0.833333</td>\n",
              "      <td>0.555556</td>\n",
              "    </tr>\n",
              "    <tr>\n",
              "      <th>3</th>\n",
              "      <td>0.607143</td>\n",
              "      <td>0.441558</td>\n",
              "      <td>0.255814</td>\n",
              "      <td>0.373950</td>\n",
              "      <td>0.285714</td>\n",
              "      <td>0.855072</td>\n",
              "      <td>0.333333</td>\n",
              "      <td>0.555556</td>\n",
              "      <td>0.000000</td>\n",
              "      <td>0.416667</td>\n",
              "      <td>...</td>\n",
              "      <td>0.0</td>\n",
              "      <td>0.0</td>\n",
              "      <td>0.0</td>\n",
              "      <td>0.843750</td>\n",
              "      <td>0.673913</td>\n",
              "      <td>0.090909</td>\n",
              "      <td>0.10</td>\n",
              "      <td>0.625000</td>\n",
              "      <td>0.583333</td>\n",
              "      <td>0.416667</td>\n",
              "    </tr>\n",
              "    <tr>\n",
              "      <th>4</th>\n",
              "      <td>0.178571</td>\n",
              "      <td>0.272727</td>\n",
              "      <td>0.558140</td>\n",
              "      <td>0.373950</td>\n",
              "      <td>0.000000</td>\n",
              "      <td>0.855072</td>\n",
              "      <td>0.166667</td>\n",
              "      <td>0.238095</td>\n",
              "      <td>0.000000</td>\n",
              "      <td>0.416667</td>\n",
              "      <td>...</td>\n",
              "      <td>0.0</td>\n",
              "      <td>0.0</td>\n",
              "      <td>0.0</td>\n",
              "      <td>0.843750</td>\n",
              "      <td>0.782609</td>\n",
              "      <td>0.136364</td>\n",
              "      <td>0.20</td>\n",
              "      <td>0.666667</td>\n",
              "      <td>0.583333</td>\n",
              "      <td>0.388889</td>\n",
              "    </tr>\n",
              "    <tr>\n",
              "      <th>...</th>\n",
              "      <td>...</td>\n",
              "      <td>...</td>\n",
              "      <td>...</td>\n",
              "      <td>...</td>\n",
              "      <td>...</td>\n",
              "      <td>...</td>\n",
              "      <td>...</td>\n",
              "      <td>...</td>\n",
              "      <td>...</td>\n",
              "      <td>...</td>\n",
              "      <td>...</td>\n",
              "      <td>...</td>\n",
              "      <td>...</td>\n",
              "      <td>...</td>\n",
              "      <td>...</td>\n",
              "      <td>...</td>\n",
              "      <td>...</td>\n",
              "      <td>...</td>\n",
              "      <td>...</td>\n",
              "      <td>...</td>\n",
              "      <td>...</td>\n",
              "    </tr>\n",
              "    <tr>\n",
              "      <th>536</th>\n",
              "      <td>0.535714</td>\n",
              "      <td>0.246753</td>\n",
              "      <td>0.641674</td>\n",
              "      <td>0.142857</td>\n",
              "      <td>0.857143</td>\n",
              "      <td>0.855072</td>\n",
              "      <td>0.000000</td>\n",
              "      <td>0.396825</td>\n",
              "      <td>0.000000</td>\n",
              "      <td>0.416667</td>\n",
              "      <td>...</td>\n",
              "      <td>0.0</td>\n",
              "      <td>0.0</td>\n",
              "      <td>0.0</td>\n",
              "      <td>0.765625</td>\n",
              "      <td>0.673913</td>\n",
              "      <td>0.045455</td>\n",
              "      <td>0.00</td>\n",
              "      <td>0.729167</td>\n",
              "      <td>0.416667</td>\n",
              "      <td>0.372222</td>\n",
              "    </tr>\n",
              "    <tr>\n",
              "      <th>537</th>\n",
              "      <td>0.357143</td>\n",
              "      <td>0.418182</td>\n",
              "      <td>0.488372</td>\n",
              "      <td>0.428571</td>\n",
              "      <td>0.571429</td>\n",
              "      <td>0.855072</td>\n",
              "      <td>0.166667</td>\n",
              "      <td>0.365079</td>\n",
              "      <td>0.000000</td>\n",
              "      <td>0.416667</td>\n",
              "      <td>...</td>\n",
              "      <td>0.0</td>\n",
              "      <td>0.0</td>\n",
              "      <td>0.0</td>\n",
              "      <td>0.765625</td>\n",
              "      <td>0.673913</td>\n",
              "      <td>0.409091</td>\n",
              "      <td>0.35</td>\n",
              "      <td>0.791667</td>\n",
              "      <td>0.750000</td>\n",
              "      <td>0.455556</td>\n",
              "    </tr>\n",
              "    <tr>\n",
              "      <th>538</th>\n",
              "      <td>0.571429</td>\n",
              "      <td>0.298701</td>\n",
              "      <td>0.348837</td>\n",
              "      <td>0.348739</td>\n",
              "      <td>0.285714</td>\n",
              "      <td>0.884058</td>\n",
              "      <td>0.333333</td>\n",
              "      <td>0.365079</td>\n",
              "      <td>0.000000</td>\n",
              "      <td>0.500000</td>\n",
              "      <td>...</td>\n",
              "      <td>0.0</td>\n",
              "      <td>0.0</td>\n",
              "      <td>0.0</td>\n",
              "      <td>0.765625</td>\n",
              "      <td>0.782609</td>\n",
              "      <td>0.045455</td>\n",
              "      <td>0.00</td>\n",
              "      <td>0.750000</td>\n",
              "      <td>0.375000</td>\n",
              "      <td>0.405556</td>\n",
              "    </tr>\n",
              "    <tr>\n",
              "      <th>539</th>\n",
              "      <td>0.250000</td>\n",
              "      <td>0.246753</td>\n",
              "      <td>0.302326</td>\n",
              "      <td>0.298319</td>\n",
              "      <td>0.571429</td>\n",
              "      <td>0.884058</td>\n",
              "      <td>0.333333</td>\n",
              "      <td>0.555556</td>\n",
              "      <td>0.666667</td>\n",
              "      <td>0.166667</td>\n",
              "      <td>...</td>\n",
              "      <td>1.0</td>\n",
              "      <td>0.0</td>\n",
              "      <td>0.0</td>\n",
              "      <td>0.765625</td>\n",
              "      <td>0.673913</td>\n",
              "      <td>0.318182</td>\n",
              "      <td>0.30</td>\n",
              "      <td>0.750000</td>\n",
              "      <td>0.666667</td>\n",
              "      <td>0.638889</td>\n",
              "    </tr>\n",
              "    <tr>\n",
              "      <th>540</th>\n",
              "      <td>0.107143</td>\n",
              "      <td>0.662338</td>\n",
              "      <td>0.651163</td>\n",
              "      <td>0.630252</td>\n",
              "      <td>0.285714</td>\n",
              "      <td>0.971014</td>\n",
              "      <td>0.333333</td>\n",
              "      <td>0.269841</td>\n",
              "      <td>0.666667</td>\n",
              "      <td>0.583333</td>\n",
              "      <td>...</td>\n",
              "      <td>1.0</td>\n",
              "      <td>1.0</td>\n",
              "      <td>0.0</td>\n",
              "      <td>0.843750</td>\n",
              "      <td>0.673913</td>\n",
              "      <td>0.409091</td>\n",
              "      <td>0.50</td>\n",
              "      <td>0.791667</td>\n",
              "      <td>0.750000</td>\n",
              "      <td>0.383333</td>\n",
              "    </tr>\n",
              "  </tbody>\n",
              "</table>\n",
              "<p>541 rows × 37 columns</p>\n",
              "</div>\n",
              "      <button class=\"colab-df-convert\" onclick=\"convertToInteractive('df-ea91493e-6fbc-4f2b-bae2-89d8eb129971')\"\n",
              "              title=\"Convert this dataframe to an interactive table.\"\n",
              "              style=\"display:none;\">\n",
              "        \n",
              "  <svg xmlns=\"http://www.w3.org/2000/svg\" height=\"24px\"viewBox=\"0 0 24 24\"\n",
              "       width=\"24px\">\n",
              "    <path d=\"M0 0h24v24H0V0z\" fill=\"none\"/>\n",
              "    <path d=\"M18.56 5.44l.94 2.06.94-2.06 2.06-.94-2.06-.94-.94-2.06-.94 2.06-2.06.94zm-11 1L8.5 8.5l.94-2.06 2.06-.94-2.06-.94L8.5 2.5l-.94 2.06-2.06.94zm10 10l.94 2.06.94-2.06 2.06-.94-2.06-.94-.94-2.06-.94 2.06-2.06.94z\"/><path d=\"M17.41 7.96l-1.37-1.37c-.4-.4-.92-.59-1.43-.59-.52 0-1.04.2-1.43.59L10.3 9.45l-7.72 7.72c-.78.78-.78 2.05 0 2.83L4 21.41c.39.39.9.59 1.41.59.51 0 1.02-.2 1.41-.59l7.78-7.78 2.81-2.81c.8-.78.8-2.07 0-2.86zM5.41 20L4 18.59l7.72-7.72 1.47 1.35L5.41 20z\"/>\n",
              "  </svg>\n",
              "      </button>\n",
              "      \n",
              "  <style>\n",
              "    .colab-df-container {\n",
              "      display:flex;\n",
              "      flex-wrap:wrap;\n",
              "      gap: 12px;\n",
              "    }\n",
              "\n",
              "    .colab-df-convert {\n",
              "      background-color: #E8F0FE;\n",
              "      border: none;\n",
              "      border-radius: 50%;\n",
              "      cursor: pointer;\n",
              "      display: none;\n",
              "      fill: #1967D2;\n",
              "      height: 32px;\n",
              "      padding: 0 0 0 0;\n",
              "      width: 32px;\n",
              "    }\n",
              "\n",
              "    .colab-df-convert:hover {\n",
              "      background-color: #E2EBFA;\n",
              "      box-shadow: 0px 1px 2px rgba(60, 64, 67, 0.3), 0px 1px 3px 1px rgba(60, 64, 67, 0.15);\n",
              "      fill: #174EA6;\n",
              "    }\n",
              "\n",
              "    [theme=dark] .colab-df-convert {\n",
              "      background-color: #3B4455;\n",
              "      fill: #D2E3FC;\n",
              "    }\n",
              "\n",
              "    [theme=dark] .colab-df-convert:hover {\n",
              "      background-color: #434B5C;\n",
              "      box-shadow: 0px 1px 3px 1px rgba(0, 0, 0, 0.15);\n",
              "      filter: drop-shadow(0px 1px 2px rgba(0, 0, 0, 0.3));\n",
              "      fill: #FFFFFF;\n",
              "    }\n",
              "  </style>\n",
              "\n",
              "      <script>\n",
              "        const buttonEl =\n",
              "          document.querySelector('#df-ea91493e-6fbc-4f2b-bae2-89d8eb129971 button.colab-df-convert');\n",
              "        buttonEl.style.display =\n",
              "          google.colab.kernel.accessAllowed ? 'block' : 'none';\n",
              "\n",
              "        async function convertToInteractive(key) {\n",
              "          const element = document.querySelector('#df-ea91493e-6fbc-4f2b-bae2-89d8eb129971');\n",
              "          const dataTable =\n",
              "            await google.colab.kernel.invokeFunction('convertToInteractive',\n",
              "                                                     [key], {});\n",
              "          if (!dataTable) return;\n",
              "\n",
              "          const docLinkHtml = 'Like what you see? Visit the ' +\n",
              "            '<a target=\"_blank\" href=https://colab.research.google.com/notebooks/data_table.ipynb>data table notebook</a>'\n",
              "            + ' to learn more about interactive tables.';\n",
              "          element.innerHTML = '';\n",
              "          dataTable['output_type'] = 'display_data';\n",
              "          await google.colab.output.renderOutput(dataTable, element);\n",
              "          const docLink = document.createElement('div');\n",
              "          docLink.innerHTML = docLinkHtml;\n",
              "          element.appendChild(docLink);\n",
              "        }\n",
              "      </script>\n",
              "    </div>\n",
              "  </div>\n",
              "  "
            ]
          },
          "metadata": {},
          "execution_count": 24
        }
      ]
    },
    {
      "cell_type": "markdown",
      "source": [
        "Train_test_split"
      ],
      "metadata": {
        "id": "hmYvGeeCJ21M"
      }
    },
    {
      "cell_type": "code",
      "source": [
        "from sklearn.model_selection import train_test_split\n",
        "x_train,x_test,y_train,y_test = train_test_split(x_scaled,y,test_size=0.3,random_state=1)"
      ],
      "metadata": {
        "id": "Z6m1aydkJ5Zy"
      },
      "execution_count": 25,
      "outputs": []
    },
    {
      "cell_type": "code",
      "source": [
        "x_train"
      ],
      "metadata": {
        "colab": {
          "base_uri": "https://localhost:8080/",
          "height": 539
        },
        "id": "FY7MYDGiKFjS",
        "outputId": "602514d8-b618-4f12-e75b-4d4a8bd7bcec"
      },
      "execution_count": 26,
      "outputs": [
        {
          "output_type": "execute_result",
          "data": {
            "text/plain": [
              "      Age (yrs)  Weight (Kg)  Height(Cm)        BMI  Blood Group  \\\n",
              "81     0.500000     0.376623     0.581395  0.373950     0.285714   \n",
              "339    0.321429     0.285714     0.348837  0.327731     0.857143   \n",
              "173    0.535714     0.551948     0.418605  0.373950     0.571429   \n",
              "509    0.928571     0.298701     0.348837  0.348739     0.285714   \n",
              "477    0.785714     0.818182     0.429023  1.000000     0.714286   \n",
              "..          ...          ...          ...       ...          ...   \n",
              "129    0.714286     0.116883     0.186047  0.373950     0.000000   \n",
              "144    0.607143     0.480519     0.372093  0.373950     0.571429   \n",
              "72     0.571429     0.441558     0.395349  0.373950     0.571429   \n",
              "235    0.285714     0.351948     0.372093  0.373950     0.285714   \n",
              "37     0.214286     0.532468     0.465116  0.373950     0.000000   \n",
              "\n",
              "     Pulse rate(bpm)   RR (breaths/min)  Hb(g/dl)  Cycle(R/I)  \\\n",
              "81           0.855072          0.000000  0.634921    0.000000   \n",
              "339          0.942029          0.500000  0.333333    0.000000   \n",
              "173          0.855072          0.333333  0.252381    0.666667   \n",
              "509          0.884058          0.333333  0.873016    0.000000   \n",
              "477          0.884058          0.166667  0.349206    0.666667   \n",
              "..                ...               ...       ...         ...   \n",
              "129          0.855072          0.166667  0.269841    0.000000   \n",
              "144          0.971014          0.500000  0.428571    0.000000   \n",
              "72           0.826087          0.166667  0.238095    0.000000   \n",
              "235          0.855072          0.166667  0.619048    0.000000   \n",
              "37           0.826087          0.166667  0.396825    0.000000   \n",
              "\n",
              "     Cycle length(days)  ...  Pimples(Y/N)  Fast food (Y/N)  \\\n",
              "81             0.416667  ...           0.0              0.0   \n",
              "339            0.416667  ...           0.0              1.0   \n",
              "173            0.416667  ...           0.0              1.0   \n",
              "509            0.333333  ...           0.0              1.0   \n",
              "477            0.583333  ...           0.0              1.0   \n",
              "..                  ...  ...           ...              ...   \n",
              "129            0.416667  ...           0.0              0.0   \n",
              "144            0.416667  ...           0.0              1.0   \n",
              "72             0.416667  ...           0.0              0.0   \n",
              "235            0.416667  ...           0.0              1.0   \n",
              "37             0.416667  ...           0.0              0.0   \n",
              "\n",
              "     Reg.Exercise(Y/N)  BP _Systolic (mmHg)  BP _Diastolic (mmHg)  \\\n",
              "81                 0.0             0.843750              0.782609   \n",
              "339                1.0             0.765625              0.782609   \n",
              "173                0.0             0.843750              0.782609   \n",
              "509                0.0             0.843750              0.673913   \n",
              "477                0.0             0.921875              0.782609   \n",
              "..                 ...                  ...                   ...   \n",
              "129                0.0             0.765625              0.782609   \n",
              "144                1.0             0.843750              0.782609   \n",
              "72                 0.0             0.765625              0.782609   \n",
              "235                1.0             0.765625              0.673913   \n",
              "37                 0.0             0.843750              0.782609   \n",
              "\n",
              "     Follicle No. (L)  Follicle No. (R)  Avg. F size (L) (mm)  \\\n",
              "81           0.363636              0.30              0.666667   \n",
              "339          0.045455              0.05              0.416667   \n",
              "173          0.681818              0.80              0.541667   \n",
              "509          0.909091              0.90              0.750000   \n",
              "477          0.818182              0.55              0.833333   \n",
              "..                ...               ...                   ...   \n",
              "129          0.090909              0.05              0.791667   \n",
              "144          0.136364              0.15              0.875000   \n",
              "72           0.136364              0.05              0.312500   \n",
              "235          0.000000              0.25              0.708333   \n",
              "37           0.045455              0.10              0.270833   \n",
              "\n",
              "     Avg. F size (R) (mm)  Endometrium (mm)  \n",
              "81               0.625000          0.461111  \n",
              "339              0.500000          0.455556  \n",
              "173              0.583333          0.527778  \n",
              "509              0.708333          0.433333  \n",
              "477              0.791667          0.511111  \n",
              "..                    ...               ...  \n",
              "129              0.500000          0.538889  \n",
              "144              0.750000          0.516667  \n",
              "72               0.187500          0.300000  \n",
              "235              0.750000          0.266667  \n",
              "37               0.354167          0.555556  \n",
              "\n",
              "[378 rows x 37 columns]"
            ],
            "text/html": [
              "\n",
              "  <div id=\"df-ce28cc88-83f8-48c5-871b-42331fa0d339\">\n",
              "    <div class=\"colab-df-container\">\n",
              "      <div>\n",
              "<style scoped>\n",
              "    .dataframe tbody tr th:only-of-type {\n",
              "        vertical-align: middle;\n",
              "    }\n",
              "\n",
              "    .dataframe tbody tr th {\n",
              "        vertical-align: top;\n",
              "    }\n",
              "\n",
              "    .dataframe thead th {\n",
              "        text-align: right;\n",
              "    }\n",
              "</style>\n",
              "<table border=\"1\" class=\"dataframe\">\n",
              "  <thead>\n",
              "    <tr style=\"text-align: right;\">\n",
              "      <th></th>\n",
              "      <th>Age (yrs)</th>\n",
              "      <th>Weight (Kg)</th>\n",
              "      <th>Height(Cm)</th>\n",
              "      <th>BMI</th>\n",
              "      <th>Blood Group</th>\n",
              "      <th>Pulse rate(bpm)</th>\n",
              "      <th>RR (breaths/min)</th>\n",
              "      <th>Hb(g/dl)</th>\n",
              "      <th>Cycle(R/I)</th>\n",
              "      <th>Cycle length(days)</th>\n",
              "      <th>...</th>\n",
              "      <th>Pimples(Y/N)</th>\n",
              "      <th>Fast food (Y/N)</th>\n",
              "      <th>Reg.Exercise(Y/N)</th>\n",
              "      <th>BP _Systolic (mmHg)</th>\n",
              "      <th>BP _Diastolic (mmHg)</th>\n",
              "      <th>Follicle No. (L)</th>\n",
              "      <th>Follicle No. (R)</th>\n",
              "      <th>Avg. F size (L) (mm)</th>\n",
              "      <th>Avg. F size (R) (mm)</th>\n",
              "      <th>Endometrium (mm)</th>\n",
              "    </tr>\n",
              "  </thead>\n",
              "  <tbody>\n",
              "    <tr>\n",
              "      <th>81</th>\n",
              "      <td>0.500000</td>\n",
              "      <td>0.376623</td>\n",
              "      <td>0.581395</td>\n",
              "      <td>0.373950</td>\n",
              "      <td>0.285714</td>\n",
              "      <td>0.855072</td>\n",
              "      <td>0.000000</td>\n",
              "      <td>0.634921</td>\n",
              "      <td>0.000000</td>\n",
              "      <td>0.416667</td>\n",
              "      <td>...</td>\n",
              "      <td>0.0</td>\n",
              "      <td>0.0</td>\n",
              "      <td>0.0</td>\n",
              "      <td>0.843750</td>\n",
              "      <td>0.782609</td>\n",
              "      <td>0.363636</td>\n",
              "      <td>0.30</td>\n",
              "      <td>0.666667</td>\n",
              "      <td>0.625000</td>\n",
              "      <td>0.461111</td>\n",
              "    </tr>\n",
              "    <tr>\n",
              "      <th>339</th>\n",
              "      <td>0.321429</td>\n",
              "      <td>0.285714</td>\n",
              "      <td>0.348837</td>\n",
              "      <td>0.327731</td>\n",
              "      <td>0.857143</td>\n",
              "      <td>0.942029</td>\n",
              "      <td>0.500000</td>\n",
              "      <td>0.333333</td>\n",
              "      <td>0.000000</td>\n",
              "      <td>0.416667</td>\n",
              "      <td>...</td>\n",
              "      <td>0.0</td>\n",
              "      <td>1.0</td>\n",
              "      <td>1.0</td>\n",
              "      <td>0.765625</td>\n",
              "      <td>0.782609</td>\n",
              "      <td>0.045455</td>\n",
              "      <td>0.05</td>\n",
              "      <td>0.416667</td>\n",
              "      <td>0.500000</td>\n",
              "      <td>0.455556</td>\n",
              "    </tr>\n",
              "    <tr>\n",
              "      <th>173</th>\n",
              "      <td>0.535714</td>\n",
              "      <td>0.551948</td>\n",
              "      <td>0.418605</td>\n",
              "      <td>0.373950</td>\n",
              "      <td>0.571429</td>\n",
              "      <td>0.855072</td>\n",
              "      <td>0.333333</td>\n",
              "      <td>0.252381</td>\n",
              "      <td>0.666667</td>\n",
              "      <td>0.416667</td>\n",
              "      <td>...</td>\n",
              "      <td>0.0</td>\n",
              "      <td>1.0</td>\n",
              "      <td>0.0</td>\n",
              "      <td>0.843750</td>\n",
              "      <td>0.782609</td>\n",
              "      <td>0.681818</td>\n",
              "      <td>0.80</td>\n",
              "      <td>0.541667</td>\n",
              "      <td>0.583333</td>\n",
              "      <td>0.527778</td>\n",
              "    </tr>\n",
              "    <tr>\n",
              "      <th>509</th>\n",
              "      <td>0.928571</td>\n",
              "      <td>0.298701</td>\n",
              "      <td>0.348837</td>\n",
              "      <td>0.348739</td>\n",
              "      <td>0.285714</td>\n",
              "      <td>0.884058</td>\n",
              "      <td>0.333333</td>\n",
              "      <td>0.873016</td>\n",
              "      <td>0.000000</td>\n",
              "      <td>0.333333</td>\n",
              "      <td>...</td>\n",
              "      <td>0.0</td>\n",
              "      <td>1.0</td>\n",
              "      <td>0.0</td>\n",
              "      <td>0.843750</td>\n",
              "      <td>0.673913</td>\n",
              "      <td>0.909091</td>\n",
              "      <td>0.90</td>\n",
              "      <td>0.750000</td>\n",
              "      <td>0.708333</td>\n",
              "      <td>0.433333</td>\n",
              "    </tr>\n",
              "    <tr>\n",
              "      <th>477</th>\n",
              "      <td>0.785714</td>\n",
              "      <td>0.818182</td>\n",
              "      <td>0.429023</td>\n",
              "      <td>1.000000</td>\n",
              "      <td>0.714286</td>\n",
              "      <td>0.884058</td>\n",
              "      <td>0.166667</td>\n",
              "      <td>0.349206</td>\n",
              "      <td>0.666667</td>\n",
              "      <td>0.583333</td>\n",
              "      <td>...</td>\n",
              "      <td>0.0</td>\n",
              "      <td>1.0</td>\n",
              "      <td>0.0</td>\n",
              "      <td>0.921875</td>\n",
              "      <td>0.782609</td>\n",
              "      <td>0.818182</td>\n",
              "      <td>0.55</td>\n",
              "      <td>0.833333</td>\n",
              "      <td>0.791667</td>\n",
              "      <td>0.511111</td>\n",
              "    </tr>\n",
              "    <tr>\n",
              "      <th>...</th>\n",
              "      <td>...</td>\n",
              "      <td>...</td>\n",
              "      <td>...</td>\n",
              "      <td>...</td>\n",
              "      <td>...</td>\n",
              "      <td>...</td>\n",
              "      <td>...</td>\n",
              "      <td>...</td>\n",
              "      <td>...</td>\n",
              "      <td>...</td>\n",
              "      <td>...</td>\n",
              "      <td>...</td>\n",
              "      <td>...</td>\n",
              "      <td>...</td>\n",
              "      <td>...</td>\n",
              "      <td>...</td>\n",
              "      <td>...</td>\n",
              "      <td>...</td>\n",
              "      <td>...</td>\n",
              "      <td>...</td>\n",
              "      <td>...</td>\n",
              "    </tr>\n",
              "    <tr>\n",
              "      <th>129</th>\n",
              "      <td>0.714286</td>\n",
              "      <td>0.116883</td>\n",
              "      <td>0.186047</td>\n",
              "      <td>0.373950</td>\n",
              "      <td>0.000000</td>\n",
              "      <td>0.855072</td>\n",
              "      <td>0.166667</td>\n",
              "      <td>0.269841</td>\n",
              "      <td>0.000000</td>\n",
              "      <td>0.416667</td>\n",
              "      <td>...</td>\n",
              "      <td>0.0</td>\n",
              "      <td>0.0</td>\n",
              "      <td>0.0</td>\n",
              "      <td>0.765625</td>\n",
              "      <td>0.782609</td>\n",
              "      <td>0.090909</td>\n",
              "      <td>0.05</td>\n",
              "      <td>0.791667</td>\n",
              "      <td>0.500000</td>\n",
              "      <td>0.538889</td>\n",
              "    </tr>\n",
              "    <tr>\n",
              "      <th>144</th>\n",
              "      <td>0.607143</td>\n",
              "      <td>0.480519</td>\n",
              "      <td>0.372093</td>\n",
              "      <td>0.373950</td>\n",
              "      <td>0.571429</td>\n",
              "      <td>0.971014</td>\n",
              "      <td>0.500000</td>\n",
              "      <td>0.428571</td>\n",
              "      <td>0.000000</td>\n",
              "      <td>0.416667</td>\n",
              "      <td>...</td>\n",
              "      <td>0.0</td>\n",
              "      <td>1.0</td>\n",
              "      <td>1.0</td>\n",
              "      <td>0.843750</td>\n",
              "      <td>0.782609</td>\n",
              "      <td>0.136364</td>\n",
              "      <td>0.15</td>\n",
              "      <td>0.875000</td>\n",
              "      <td>0.750000</td>\n",
              "      <td>0.516667</td>\n",
              "    </tr>\n",
              "    <tr>\n",
              "      <th>72</th>\n",
              "      <td>0.571429</td>\n",
              "      <td>0.441558</td>\n",
              "      <td>0.395349</td>\n",
              "      <td>0.373950</td>\n",
              "      <td>0.571429</td>\n",
              "      <td>0.826087</td>\n",
              "      <td>0.166667</td>\n",
              "      <td>0.238095</td>\n",
              "      <td>0.000000</td>\n",
              "      <td>0.416667</td>\n",
              "      <td>...</td>\n",
              "      <td>0.0</td>\n",
              "      <td>0.0</td>\n",
              "      <td>0.0</td>\n",
              "      <td>0.765625</td>\n",
              "      <td>0.782609</td>\n",
              "      <td>0.136364</td>\n",
              "      <td>0.05</td>\n",
              "      <td>0.312500</td>\n",
              "      <td>0.187500</td>\n",
              "      <td>0.300000</td>\n",
              "    </tr>\n",
              "    <tr>\n",
              "      <th>235</th>\n",
              "      <td>0.285714</td>\n",
              "      <td>0.351948</td>\n",
              "      <td>0.372093</td>\n",
              "      <td>0.373950</td>\n",
              "      <td>0.285714</td>\n",
              "      <td>0.855072</td>\n",
              "      <td>0.166667</td>\n",
              "      <td>0.619048</td>\n",
              "      <td>0.000000</td>\n",
              "      <td>0.416667</td>\n",
              "      <td>...</td>\n",
              "      <td>0.0</td>\n",
              "      <td>1.0</td>\n",
              "      <td>1.0</td>\n",
              "      <td>0.765625</td>\n",
              "      <td>0.673913</td>\n",
              "      <td>0.000000</td>\n",
              "      <td>0.25</td>\n",
              "      <td>0.708333</td>\n",
              "      <td>0.750000</td>\n",
              "      <td>0.266667</td>\n",
              "    </tr>\n",
              "    <tr>\n",
              "      <th>37</th>\n",
              "      <td>0.214286</td>\n",
              "      <td>0.532468</td>\n",
              "      <td>0.465116</td>\n",
              "      <td>0.373950</td>\n",
              "      <td>0.000000</td>\n",
              "      <td>0.826087</td>\n",
              "      <td>0.166667</td>\n",
              "      <td>0.396825</td>\n",
              "      <td>0.000000</td>\n",
              "      <td>0.416667</td>\n",
              "      <td>...</td>\n",
              "      <td>0.0</td>\n",
              "      <td>0.0</td>\n",
              "      <td>0.0</td>\n",
              "      <td>0.843750</td>\n",
              "      <td>0.782609</td>\n",
              "      <td>0.045455</td>\n",
              "      <td>0.10</td>\n",
              "      <td>0.270833</td>\n",
              "      <td>0.354167</td>\n",
              "      <td>0.555556</td>\n",
              "    </tr>\n",
              "  </tbody>\n",
              "</table>\n",
              "<p>378 rows × 37 columns</p>\n",
              "</div>\n",
              "      <button class=\"colab-df-convert\" onclick=\"convertToInteractive('df-ce28cc88-83f8-48c5-871b-42331fa0d339')\"\n",
              "              title=\"Convert this dataframe to an interactive table.\"\n",
              "              style=\"display:none;\">\n",
              "        \n",
              "  <svg xmlns=\"http://www.w3.org/2000/svg\" height=\"24px\"viewBox=\"0 0 24 24\"\n",
              "       width=\"24px\">\n",
              "    <path d=\"M0 0h24v24H0V0z\" fill=\"none\"/>\n",
              "    <path d=\"M18.56 5.44l.94 2.06.94-2.06 2.06-.94-2.06-.94-.94-2.06-.94 2.06-2.06.94zm-11 1L8.5 8.5l.94-2.06 2.06-.94-2.06-.94L8.5 2.5l-.94 2.06-2.06.94zm10 10l.94 2.06.94-2.06 2.06-.94-2.06-.94-.94-2.06-.94 2.06-2.06.94z\"/><path d=\"M17.41 7.96l-1.37-1.37c-.4-.4-.92-.59-1.43-.59-.52 0-1.04.2-1.43.59L10.3 9.45l-7.72 7.72c-.78.78-.78 2.05 0 2.83L4 21.41c.39.39.9.59 1.41.59.51 0 1.02-.2 1.41-.59l7.78-7.78 2.81-2.81c.8-.78.8-2.07 0-2.86zM5.41 20L4 18.59l7.72-7.72 1.47 1.35L5.41 20z\"/>\n",
              "  </svg>\n",
              "      </button>\n",
              "      \n",
              "  <style>\n",
              "    .colab-df-container {\n",
              "      display:flex;\n",
              "      flex-wrap:wrap;\n",
              "      gap: 12px;\n",
              "    }\n",
              "\n",
              "    .colab-df-convert {\n",
              "      background-color: #E8F0FE;\n",
              "      border: none;\n",
              "      border-radius: 50%;\n",
              "      cursor: pointer;\n",
              "      display: none;\n",
              "      fill: #1967D2;\n",
              "      height: 32px;\n",
              "      padding: 0 0 0 0;\n",
              "      width: 32px;\n",
              "    }\n",
              "\n",
              "    .colab-df-convert:hover {\n",
              "      background-color: #E2EBFA;\n",
              "      box-shadow: 0px 1px 2px rgba(60, 64, 67, 0.3), 0px 1px 3px 1px rgba(60, 64, 67, 0.15);\n",
              "      fill: #174EA6;\n",
              "    }\n",
              "\n",
              "    [theme=dark] .colab-df-convert {\n",
              "      background-color: #3B4455;\n",
              "      fill: #D2E3FC;\n",
              "    }\n",
              "\n",
              "    [theme=dark] .colab-df-convert:hover {\n",
              "      background-color: #434B5C;\n",
              "      box-shadow: 0px 1px 3px 1px rgba(0, 0, 0, 0.15);\n",
              "      filter: drop-shadow(0px 1px 2px rgba(0, 0, 0, 0.3));\n",
              "      fill: #FFFFFF;\n",
              "    }\n",
              "  </style>\n",
              "\n",
              "      <script>\n",
              "        const buttonEl =\n",
              "          document.querySelector('#df-ce28cc88-83f8-48c5-871b-42331fa0d339 button.colab-df-convert');\n",
              "        buttonEl.style.display =\n",
              "          google.colab.kernel.accessAllowed ? 'block' : 'none';\n",
              "\n",
              "        async function convertToInteractive(key) {\n",
              "          const element = document.querySelector('#df-ce28cc88-83f8-48c5-871b-42331fa0d339');\n",
              "          const dataTable =\n",
              "            await google.colab.kernel.invokeFunction('convertToInteractive',\n",
              "                                                     [key], {});\n",
              "          if (!dataTable) return;\n",
              "\n",
              "          const docLinkHtml = 'Like what you see? Visit the ' +\n",
              "            '<a target=\"_blank\" href=https://colab.research.google.com/notebooks/data_table.ipynb>data table notebook</a>'\n",
              "            + ' to learn more about interactive tables.';\n",
              "          element.innerHTML = '';\n",
              "          dataTable['output_type'] = 'display_data';\n",
              "          await google.colab.output.renderOutput(dataTable, element);\n",
              "          const docLink = document.createElement('div');\n",
              "          docLink.innerHTML = docLinkHtml;\n",
              "          element.appendChild(docLink);\n",
              "        }\n",
              "      </script>\n",
              "    </div>\n",
              "  </div>\n",
              "  "
            ]
          },
          "metadata": {},
          "execution_count": 26
        }
      ]
    },
    {
      "cell_type": "markdown",
      "source": [
        "Logistic regression"
      ],
      "metadata": {
        "id": "4IcetvuaKnND"
      }
    },
    {
      "cell_type": "code",
      "source": [
        "from sklearn.linear_model import LogisticRegression\n",
        "logisModel = LogisticRegression()\n",
        "#And now fit the model into x_train and y_train\n",
        "logisModel.fit(x_train,y_train)"
      ],
      "metadata": {
        "colab": {
          "base_uri": "https://localhost:8080/"
        },
        "id": "Cuh85L6PKqXC",
        "outputId": "f0e98014-0b2d-425e-9681-330dc8794f74"
      },
      "execution_count": 27,
      "outputs": [
        {
          "output_type": "execute_result",
          "data": {
            "text/plain": [
              "LogisticRegression()"
            ]
          },
          "metadata": {},
          "execution_count": 27
        }
      ]
    },
    {
      "cell_type": "code",
      "source": [
        "y_pred = logisModel.predict(x_test)"
      ],
      "metadata": {
        "id": "RBveSKpvLAoU"
      },
      "execution_count": 28,
      "outputs": []
    },
    {
      "cell_type": "code",
      "source": [
        "from sklearn.metrics import accuracy_score\n",
        "from sklearn.metrics import confusion_matrix"
      ],
      "metadata": {
        "id": "S96Ki6uHLG-0"
      },
      "execution_count": 29,
      "outputs": []
    },
    {
      "cell_type": "code",
      "source": [
        "print(confusion_matrix(y_test,y_pred))"
      ],
      "metadata": {
        "colab": {
          "base_uri": "https://localhost:8080/"
        },
        "id": "Y7O2QZLyLH27",
        "outputId": "473d1753-a29c-415b-9888-bb3c3933975f"
      },
      "execution_count": 30,
      "outputs": [
        {
          "output_type": "stream",
          "name": "stdout",
          "text": [
            "[[109   4]\n",
            " [ 11  39]]\n"
          ]
        }
      ]
    },
    {
      "cell_type": "code",
      "source": [
        "logisModel.score(x_test,y_test)"
      ],
      "metadata": {
        "colab": {
          "base_uri": "https://localhost:8080/"
        },
        "id": "E6OMRvndLL_C",
        "outputId": "416fba44-b758-47ba-d10a-f2b21921d0b6"
      },
      "execution_count": 31,
      "outputs": [
        {
          "output_type": "execute_result",
          "data": {
            "text/plain": [
              "0.9079754601226994"
            ]
          },
          "metadata": {},
          "execution_count": 31
        }
      ]
    },
    {
      "cell_type": "markdown",
      "source": [
        "**Random forest**"
      ],
      "metadata": {
        "id": "Br_O1Cy3Lhci"
      }
    },
    {
      "cell_type": "code",
      "source": [
        "from sklearn.ensemble import RandomForestClassifier\n",
        "classifier= RandomForestClassifier(n_estimators= 28, criterion=\"entropy\")  \n",
        "classifier.fit(x_train, y_train)  "
      ],
      "metadata": {
        "colab": {
          "base_uri": "https://localhost:8080/"
        },
        "id": "psmviImqLjjv",
        "outputId": "5c7afef7-1628-41f3-da5e-049bc2838912"
      },
      "execution_count": 77,
      "outputs": [
        {
          "output_type": "execute_result",
          "data": {
            "text/plain": [
              "RandomForestClassifier(criterion='entropy', n_estimators=28)"
            ]
          },
          "metadata": {},
          "execution_count": 77
        }
      ]
    },
    {
      "cell_type": "markdown",
      "source": [
        "n_estimators= The required number of trees in the Random Forest. The default value is 10. We can choose any number but need to take care of the overfitting issue.\n",
        "criterion= It is a function to analyze the accuracy of the split. Here we have taken \"entropy\" for the information gain."
      ],
      "metadata": {
        "id": "-kYdcJcvL3bS"
      }
    },
    {
      "cell_type": "code",
      "source": [
        "y_pred= classifier.predict(x_test)  "
      ],
      "metadata": {
        "id": "UUWXE1GyL4bC"
      },
      "execution_count": 78,
      "outputs": []
    },
    {
      "cell_type": "code",
      "source": [
        "from sklearn.metrics import confusion_matrix  \n",
        "cm= confusion_matrix(y_test, y_pred)  "
      ],
      "metadata": {
        "id": "ubJ5MJmBMFez"
      },
      "execution_count": 79,
      "outputs": []
    },
    {
      "cell_type": "code",
      "source": [
        "cm"
      ],
      "metadata": {
        "colab": {
          "base_uri": "https://localhost:8080/"
        },
        "id": "7J82P-i1MIlT",
        "outputId": "10ca679b-3728-4727-9295-846f65d66030"
      },
      "execution_count": 80,
      "outputs": [
        {
          "output_type": "execute_result",
          "data": {
            "text/plain": [
              "array([[109,   4],\n",
              "       [  9,  41]])"
            ]
          },
          "metadata": {},
          "execution_count": 80
        }
      ]
    },
    {
      "cell_type": "code",
      "source": [
        "classifier.score(x_test,y_test)"
      ],
      "metadata": {
        "colab": {
          "base_uri": "https://localhost:8080/"
        },
        "id": "jn6Hs48WMRmy",
        "outputId": "e13b123c-3ca6-41c2-e18a-77f41d1c74b4"
      },
      "execution_count": 81,
      "outputs": [
        {
          "output_type": "execute_result",
          "data": {
            "text/plain": [
              "0.9202453987730062"
            ]
          },
          "metadata": {},
          "execution_count": 81
        }
      ]
    },
    {
      "cell_type": "markdown",
      "source": [
        "**Decition Tree**"
      ],
      "metadata": {
        "id": "cHNOZHPnxkuK"
      }
    },
    {
      "cell_type": "code",
      "source": [
        "from sklearn.tree import DecisionTreeClassifier  \n",
        "classifi= DecisionTreeClassifier(criterion='entropy', random_state=1)  \n",
        "classifi.fit(x_train, y_train)  "
      ],
      "metadata": {
        "colab": {
          "base_uri": "https://localhost:8080/"
        },
        "id": "htqOtRwHxn5D",
        "outputId": "24dc7597-2a35-4f4b-f8fe-384fd7106020"
      },
      "execution_count": 37,
      "outputs": [
        {
          "output_type": "execute_result",
          "data": {
            "text/plain": [
              "DecisionTreeClassifier(criterion='entropy', random_state=1)"
            ]
          },
          "metadata": {},
          "execution_count": 37
        }
      ]
    },
    {
      "cell_type": "code",
      "source": [
        "y_pred= classifi.predict(x_test)  "
      ],
      "metadata": {
        "id": "mx3vriK8x0BM"
      },
      "execution_count": 38,
      "outputs": []
    },
    {
      "cell_type": "code",
      "source": [
        "from sklearn.metrics import confusion_matrix  \n",
        "cm= confusion_matrix(y_test, y_pred)  \n",
        "cm"
      ],
      "metadata": {
        "colab": {
          "base_uri": "https://localhost:8080/"
        },
        "id": "kVb_V1nUx7rb",
        "outputId": "6225c97f-534a-4422-9a22-3102c39bea08"
      },
      "execution_count": 39,
      "outputs": [
        {
          "output_type": "execute_result",
          "data": {
            "text/plain": [
              "array([[101,  12],\n",
              "       [ 14,  36]])"
            ]
          },
          "metadata": {},
          "execution_count": 39
        }
      ]
    },
    {
      "cell_type": "code",
      "source": [
        "classifi.score(x_test,y_test)"
      ],
      "metadata": {
        "colab": {
          "base_uri": "https://localhost:8080/"
        },
        "id": "Qbf33cisyBQs",
        "outputId": "eaceb0f3-3b92-4a3b-ed1c-e0a04502fe72"
      },
      "execution_count": 40,
      "outputs": [
        {
          "output_type": "execute_result",
          "data": {
            "text/plain": [
              "0.8404907975460123"
            ]
          },
          "metadata": {},
          "execution_count": 40
        }
      ]
    },
    {
      "cell_type": "markdown",
      "source": [
        "Naive Bayes"
      ],
      "metadata": {
        "id": "pWFVTqSMYb4O"
      }
    },
    {
      "cell_type": "code",
      "source": [
        "from sklearn.naive_bayes import GaussianNB\n",
        "gnb = GaussianNB()\n",
        "gnb.fit(x_train, y_train)"
      ],
      "metadata": {
        "colab": {
          "base_uri": "https://localhost:8080/"
        },
        "id": "Wmgw-rwaYdea",
        "outputId": "b48cc909-4bf0-4f9b-df30-8528ab61401d"
      },
      "execution_count": 41,
      "outputs": [
        {
          "output_type": "execute_result",
          "data": {
            "text/plain": [
              "GaussianNB()"
            ]
          },
          "metadata": {},
          "execution_count": 41
        }
      ]
    },
    {
      "cell_type": "code",
      "source": [
        "pred = gnb.predict(x_test)"
      ],
      "metadata": {
        "id": "tMXrZ4UqYkNs"
      },
      "execution_count": 42,
      "outputs": []
    },
    {
      "cell_type": "code",
      "source": [
        "from sklearn.metrics import classification_report,confusion_matrix\n",
        "print(confusion_matrix(y_test,pred))"
      ],
      "metadata": {
        "colab": {
          "base_uri": "https://localhost:8080/"
        },
        "id": "c8ID26NjYmLs",
        "outputId": "d2eb89b0-a3b1-4eff-afb4-2999699e0c46"
      },
      "execution_count": 43,
      "outputs": [
        {
          "output_type": "stream",
          "name": "stdout",
          "text": [
            "[[108   5]\n",
            " [ 20  30]]\n"
          ]
        }
      ]
    },
    {
      "cell_type": "code",
      "source": [
        "gnb.score(x_test,y_test)"
      ],
      "metadata": {
        "id": "FSJ7mzVLYt1z",
        "outputId": "9410c84c-480b-4a9d-9b3e-5c4bffa3be96",
        "colab": {
          "base_uri": "https://localhost:8080/"
        }
      },
      "execution_count": 44,
      "outputs": [
        {
          "output_type": "execute_result",
          "data": {
            "text/plain": [
              "0.8466257668711656"
            ]
          },
          "metadata": {},
          "execution_count": 44
        }
      ]
    },
    {
      "cell_type": "code",
      "source": [
        "from sklearn.datasets import make_classification\n",
        "from xgboost import XGBClassifier\n",
        "# define dataset\n",
        "# define the model\n",
        "model = XGBClassifier()\n",
        "# fit the model on the whole dataset\n",
        "model.fit(x_train, y_train)"
      ],
      "metadata": {
        "colab": {
          "base_uri": "https://localhost:8080/"
        },
        "id": "din3Fr2mIGNX",
        "outputId": "e12ba89a-08a6-44ef-ca4a-0b387affb392"
      },
      "execution_count": 45,
      "outputs": [
        {
          "output_type": "execute_result",
          "data": {
            "text/plain": [
              "XGBClassifier()"
            ]
          },
          "metadata": {},
          "execution_count": 45
        }
      ]
    },
    {
      "cell_type": "code",
      "source": [
        "model.score(x_test,y_test)"
      ],
      "metadata": {
        "colab": {
          "base_uri": "https://localhost:8080/"
        },
        "id": "aT-g4cYEIIaf",
        "outputId": "1ecd8e99-4406-426d-ee98-4d87593189c8"
      },
      "execution_count": 46,
      "outputs": [
        {
          "output_type": "execute_result",
          "data": {
            "text/plain": [
              "0.901840490797546"
            ]
          },
          "metadata": {},
          "execution_count": 46
        }
      ]
    }
  ]
}
